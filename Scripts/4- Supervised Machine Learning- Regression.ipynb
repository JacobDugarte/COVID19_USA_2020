{
 "cells": [
  {
   "cell_type": "markdown",
   "id": "83af5b16",
   "metadata": {},
   "source": [
    "# 1. Importing libraries and data"
   ]
  },
  {
   "cell_type": "code",
   "execution_count": 6,
   "id": "7c099d7d",
   "metadata": {},
   "outputs": [],
   "source": [
    "import pandas as pd\n",
    "import numpy as np\n",
    "import seaborn as sns\n",
    "import matplotlib\n",
    "import matplotlib.pyplot as plt\n",
    "import os\n",
    "import sklearn\n",
    "from sklearn.model_selection import train_test_split \n",
    "from sklearn.linear_model import LinearRegression\n",
    "from sklearn.metrics import mean_squared_error, r2_score"
   ]
  },
  {
   "cell_type": "code",
   "execution_count": 2,
   "id": "27df57eb",
   "metadata": {},
   "outputs": [],
   "source": [
    "# This option ensures that the graphs you create are displayed within the notebook without the need to \"call\" them specifically.\n",
    "\n",
    "%matplotlib inline"
   ]
  },
  {
   "cell_type": "code",
   "execution_count": 12,
   "id": "846699c8",
   "metadata": {},
   "outputs": [],
   "source": [
    "# Define path\n",
    "\n",
    "path = r'/Users/jacob/Desktop/Achievement 6'"
   ]
  },
  {
   "cell_type": "code",
   "execution_count": 13,
   "id": "e28522cc",
   "metadata": {},
   "outputs": [],
   "source": [
    "# Import the data\n",
    "\n",
    "df = pd.read_csv(os.path.join(path, '02 Data', 'Prepared Data', 'deaths_cases_gender.csv'), index_col = False)"
   ]
  },
  {
   "cell_type": "code",
   "execution_count": 14,
   "id": "a4e607b2",
   "metadata": {},
   "outputs": [
    {
     "data": {
      "text/plain": [
       "Index(['Unnamed: 0', 'county_code', 'county', 'state', 'lat', 'long', 'date',\n",
       "       'cases', 'state_code', 'deaths', 'male', 'female', 'median_age',\n",
       "       'population', 'female_percentage', 'region', 'death_rate',\n",
       "       'cases_rate'],\n",
       "      dtype='object')"
      ]
     },
     "execution_count": 14,
     "metadata": {},
     "output_type": "execute_result"
    }
   ],
   "source": [
    "# 2. Data cleaning\n",
    "df.columns"
   ]
  },
  {
   "cell_type": "code",
   "execution_count": 15,
   "id": "54d873db",
   "metadata": {},
   "outputs": [
    {
     "data": {
      "text/html": [
       "<div>\n",
       "<style scoped>\n",
       "    .dataframe tbody tr th:only-of-type {\n",
       "        vertical-align: middle;\n",
       "    }\n",
       "\n",
       "    .dataframe tbody tr th {\n",
       "        vertical-align: top;\n",
       "    }\n",
       "\n",
       "    .dataframe thead th {\n",
       "        text-align: right;\n",
       "    }\n",
       "</style>\n",
       "<table border=\"1\" class=\"dataframe\">\n",
       "  <thead>\n",
       "    <tr style=\"text-align: right;\">\n",
       "      <th></th>\n",
       "      <th>Unnamed: 0</th>\n",
       "      <th>county_code</th>\n",
       "      <th>county</th>\n",
       "      <th>state</th>\n",
       "      <th>lat</th>\n",
       "      <th>long</th>\n",
       "      <th>date</th>\n",
       "      <th>cases</th>\n",
       "      <th>state_code</th>\n",
       "      <th>deaths</th>\n",
       "      <th>male</th>\n",
       "      <th>female</th>\n",
       "      <th>median_age</th>\n",
       "      <th>population</th>\n",
       "      <th>female_percentage</th>\n",
       "      <th>region</th>\n",
       "      <th>death_rate</th>\n",
       "      <th>cases_rate</th>\n",
       "    </tr>\n",
       "  </thead>\n",
       "  <tbody>\n",
       "    <tr>\n",
       "      <th>0</th>\n",
       "      <td>0</td>\n",
       "      <td>1001.0</td>\n",
       "      <td>Autauga</td>\n",
       "      <td>Alabama</td>\n",
       "      <td>32.539527</td>\n",
       "      <td>-86.644082</td>\n",
       "      <td>2020-01-22</td>\n",
       "      <td>0</td>\n",
       "      <td>AL</td>\n",
       "      <td>0</td>\n",
       "      <td>26874</td>\n",
       "      <td>28326</td>\n",
       "      <td>37.8</td>\n",
       "      <td>55200</td>\n",
       "      <td>51.315217</td>\n",
       "      <td>South</td>\n",
       "      <td>0.0</td>\n",
       "      <td>0.0</td>\n",
       "    </tr>\n",
       "    <tr>\n",
       "      <th>1</th>\n",
       "      <td>1</td>\n",
       "      <td>1001.0</td>\n",
       "      <td>Autauga</td>\n",
       "      <td>Alabama</td>\n",
       "      <td>32.539527</td>\n",
       "      <td>-86.644082</td>\n",
       "      <td>2020-01-23</td>\n",
       "      <td>0</td>\n",
       "      <td>AL</td>\n",
       "      <td>0</td>\n",
       "      <td>26874</td>\n",
       "      <td>28326</td>\n",
       "      <td>37.8</td>\n",
       "      <td>55200</td>\n",
       "      <td>51.315217</td>\n",
       "      <td>South</td>\n",
       "      <td>0.0</td>\n",
       "      <td>0.0</td>\n",
       "    </tr>\n",
       "    <tr>\n",
       "      <th>2</th>\n",
       "      <td>2</td>\n",
       "      <td>1001.0</td>\n",
       "      <td>Autauga</td>\n",
       "      <td>Alabama</td>\n",
       "      <td>32.539527</td>\n",
       "      <td>-86.644082</td>\n",
       "      <td>2020-01-24</td>\n",
       "      <td>0</td>\n",
       "      <td>AL</td>\n",
       "      <td>0</td>\n",
       "      <td>26874</td>\n",
       "      <td>28326</td>\n",
       "      <td>37.8</td>\n",
       "      <td>55200</td>\n",
       "      <td>51.315217</td>\n",
       "      <td>South</td>\n",
       "      <td>0.0</td>\n",
       "      <td>0.0</td>\n",
       "    </tr>\n",
       "    <tr>\n",
       "      <th>3</th>\n",
       "      <td>3</td>\n",
       "      <td>1001.0</td>\n",
       "      <td>Autauga</td>\n",
       "      <td>Alabama</td>\n",
       "      <td>32.539527</td>\n",
       "      <td>-86.644082</td>\n",
       "      <td>2020-01-25</td>\n",
       "      <td>0</td>\n",
       "      <td>AL</td>\n",
       "      <td>0</td>\n",
       "      <td>26874</td>\n",
       "      <td>28326</td>\n",
       "      <td>37.8</td>\n",
       "      <td>55200</td>\n",
       "      <td>51.315217</td>\n",
       "      <td>South</td>\n",
       "      <td>0.0</td>\n",
       "      <td>0.0</td>\n",
       "    </tr>\n",
       "    <tr>\n",
       "      <th>4</th>\n",
       "      <td>4</td>\n",
       "      <td>1001.0</td>\n",
       "      <td>Autauga</td>\n",
       "      <td>Alabama</td>\n",
       "      <td>32.539527</td>\n",
       "      <td>-86.644082</td>\n",
       "      <td>2020-01-26</td>\n",
       "      <td>0</td>\n",
       "      <td>AL</td>\n",
       "      <td>0</td>\n",
       "      <td>26874</td>\n",
       "      <td>28326</td>\n",
       "      <td>37.8</td>\n",
       "      <td>55200</td>\n",
       "      <td>51.315217</td>\n",
       "      <td>South</td>\n",
       "      <td>0.0</td>\n",
       "      <td>0.0</td>\n",
       "    </tr>\n",
       "  </tbody>\n",
       "</table>\n",
       "</div>"
      ],
      "text/plain": [
       "   Unnamed: 0  county_code   county    state        lat       long  \\\n",
       "0           0       1001.0  Autauga  Alabama  32.539527 -86.644082   \n",
       "1           1       1001.0  Autauga  Alabama  32.539527 -86.644082   \n",
       "2           2       1001.0  Autauga  Alabama  32.539527 -86.644082   \n",
       "3           3       1001.0  Autauga  Alabama  32.539527 -86.644082   \n",
       "4           4       1001.0  Autauga  Alabama  32.539527 -86.644082   \n",
       "\n",
       "         date  cases state_code  deaths   male  female  median_age  \\\n",
       "0  2020-01-22      0         AL       0  26874   28326        37.8   \n",
       "1  2020-01-23      0         AL       0  26874   28326        37.8   \n",
       "2  2020-01-24      0         AL       0  26874   28326        37.8   \n",
       "3  2020-01-25      0         AL       0  26874   28326        37.8   \n",
       "4  2020-01-26      0         AL       0  26874   28326        37.8   \n",
       "\n",
       "   population  female_percentage region  death_rate  cases_rate  \n",
       "0       55200          51.315217  South         0.0         0.0  \n",
       "1       55200          51.315217  South         0.0         0.0  \n",
       "2       55200          51.315217  South         0.0         0.0  \n",
       "3       55200          51.315217  South         0.0         0.0  \n",
       "4       55200          51.315217  South         0.0         0.0  "
      ]
     },
     "execution_count": 15,
     "metadata": {},
     "output_type": "execute_result"
    }
   ],
   "source": [
    "df.head()"
   ]
  },
  {
   "cell_type": "code",
   "execution_count": 16,
   "id": "522bc671",
   "metadata": {},
   "outputs": [],
   "source": [
    "df.drop('Unnamed: 0', axis=1, inplace=True)"
   ]
  },
  {
   "cell_type": "code",
   "execution_count": 19,
   "id": "5efa8002",
   "metadata": {},
   "outputs": [
    {
     "data": {
      "text/html": [
       "<div>\n",
       "<style scoped>\n",
       "    .dataframe tbody tr th:only-of-type {\n",
       "        vertical-align: middle;\n",
       "    }\n",
       "\n",
       "    .dataframe tbody tr th {\n",
       "        vertical-align: top;\n",
       "    }\n",
       "\n",
       "    .dataframe thead th {\n",
       "        text-align: right;\n",
       "    }\n",
       "</style>\n",
       "<table border=\"1\" class=\"dataframe\">\n",
       "  <thead>\n",
       "    <tr style=\"text-align: right;\">\n",
       "      <th></th>\n",
       "      <th>county_code</th>\n",
       "      <th>county</th>\n",
       "      <th>state</th>\n",
       "      <th>lat</th>\n",
       "      <th>long</th>\n",
       "      <th>date</th>\n",
       "      <th>cases</th>\n",
       "      <th>state_code</th>\n",
       "      <th>deaths</th>\n",
       "      <th>male</th>\n",
       "      <th>female</th>\n",
       "      <th>median_age</th>\n",
       "      <th>population</th>\n",
       "      <th>female_percentage</th>\n",
       "      <th>region</th>\n",
       "      <th>death_rate</th>\n",
       "      <th>cases_rate</th>\n",
       "    </tr>\n",
       "  </thead>\n",
       "  <tbody>\n",
       "    <tr>\n",
       "      <th>0</th>\n",
       "      <td>1001.0</td>\n",
       "      <td>Autauga</td>\n",
       "      <td>Alabama</td>\n",
       "      <td>32.539527</td>\n",
       "      <td>-86.644082</td>\n",
       "      <td>2020-01-22</td>\n",
       "      <td>0</td>\n",
       "      <td>AL</td>\n",
       "      <td>0</td>\n",
       "      <td>26874</td>\n",
       "      <td>28326</td>\n",
       "      <td>37.8</td>\n",
       "      <td>55200</td>\n",
       "      <td>51.315217</td>\n",
       "      <td>South</td>\n",
       "      <td>0.0</td>\n",
       "      <td>0.0</td>\n",
       "    </tr>\n",
       "    <tr>\n",
       "      <th>1</th>\n",
       "      <td>1001.0</td>\n",
       "      <td>Autauga</td>\n",
       "      <td>Alabama</td>\n",
       "      <td>32.539527</td>\n",
       "      <td>-86.644082</td>\n",
       "      <td>2020-01-23</td>\n",
       "      <td>0</td>\n",
       "      <td>AL</td>\n",
       "      <td>0</td>\n",
       "      <td>26874</td>\n",
       "      <td>28326</td>\n",
       "      <td>37.8</td>\n",
       "      <td>55200</td>\n",
       "      <td>51.315217</td>\n",
       "      <td>South</td>\n",
       "      <td>0.0</td>\n",
       "      <td>0.0</td>\n",
       "    </tr>\n",
       "    <tr>\n",
       "      <th>2</th>\n",
       "      <td>1001.0</td>\n",
       "      <td>Autauga</td>\n",
       "      <td>Alabama</td>\n",
       "      <td>32.539527</td>\n",
       "      <td>-86.644082</td>\n",
       "      <td>2020-01-24</td>\n",
       "      <td>0</td>\n",
       "      <td>AL</td>\n",
       "      <td>0</td>\n",
       "      <td>26874</td>\n",
       "      <td>28326</td>\n",
       "      <td>37.8</td>\n",
       "      <td>55200</td>\n",
       "      <td>51.315217</td>\n",
       "      <td>South</td>\n",
       "      <td>0.0</td>\n",
       "      <td>0.0</td>\n",
       "    </tr>\n",
       "    <tr>\n",
       "      <th>3</th>\n",
       "      <td>1001.0</td>\n",
       "      <td>Autauga</td>\n",
       "      <td>Alabama</td>\n",
       "      <td>32.539527</td>\n",
       "      <td>-86.644082</td>\n",
       "      <td>2020-01-25</td>\n",
       "      <td>0</td>\n",
       "      <td>AL</td>\n",
       "      <td>0</td>\n",
       "      <td>26874</td>\n",
       "      <td>28326</td>\n",
       "      <td>37.8</td>\n",
       "      <td>55200</td>\n",
       "      <td>51.315217</td>\n",
       "      <td>South</td>\n",
       "      <td>0.0</td>\n",
       "      <td>0.0</td>\n",
       "    </tr>\n",
       "    <tr>\n",
       "      <th>4</th>\n",
       "      <td>1001.0</td>\n",
       "      <td>Autauga</td>\n",
       "      <td>Alabama</td>\n",
       "      <td>32.539527</td>\n",
       "      <td>-86.644082</td>\n",
       "      <td>2020-01-26</td>\n",
       "      <td>0</td>\n",
       "      <td>AL</td>\n",
       "      <td>0</td>\n",
       "      <td>26874</td>\n",
       "      <td>28326</td>\n",
       "      <td>37.8</td>\n",
       "      <td>55200</td>\n",
       "      <td>51.315217</td>\n",
       "      <td>South</td>\n",
       "      <td>0.0</td>\n",
       "      <td>0.0</td>\n",
       "    </tr>\n",
       "  </tbody>\n",
       "</table>\n",
       "</div>"
      ],
      "text/plain": [
       "   county_code   county    state        lat       long        date  cases  \\\n",
       "0       1001.0  Autauga  Alabama  32.539527 -86.644082  2020-01-22      0   \n",
       "1       1001.0  Autauga  Alabama  32.539527 -86.644082  2020-01-23      0   \n",
       "2       1001.0  Autauga  Alabama  32.539527 -86.644082  2020-01-24      0   \n",
       "3       1001.0  Autauga  Alabama  32.539527 -86.644082  2020-01-25      0   \n",
       "4       1001.0  Autauga  Alabama  32.539527 -86.644082  2020-01-26      0   \n",
       "\n",
       "  state_code  deaths   male  female  median_age  population  \\\n",
       "0         AL       0  26874   28326        37.8       55200   \n",
       "1         AL       0  26874   28326        37.8       55200   \n",
       "2         AL       0  26874   28326        37.8       55200   \n",
       "3         AL       0  26874   28326        37.8       55200   \n",
       "4         AL       0  26874   28326        37.8       55200   \n",
       "\n",
       "   female_percentage region  death_rate  cases_rate  \n",
       "0          51.315217  South         0.0         0.0  \n",
       "1          51.315217  South         0.0         0.0  \n",
       "2          51.315217  South         0.0         0.0  \n",
       "3          51.315217  South         0.0         0.0  \n",
       "4          51.315217  South         0.0         0.0  "
      ]
     },
     "execution_count": 19,
     "metadata": {},
     "output_type": "execute_result"
    }
   ],
   "source": [
    "df.head()"
   ]
  },
  {
   "cell_type": "markdown",
   "id": "f0ad0612",
   "metadata": {},
   "source": [
    "### Checking extreme values for \"cases\""
   ]
  },
  {
   "cell_type": "code",
   "execution_count": 22,
   "id": "9049459d",
   "metadata": {},
   "outputs": [
    {
     "name": "stderr",
     "output_type": "stream",
     "text": [
      "/var/folders/5j/49cjqn4n79n3w8yw5rj_8hhh0000gn/T/ipykernel_58715/753952496.py:1: UserWarning: \n",
      "\n",
      "`distplot` is a deprecated function and will be removed in seaborn v0.14.0.\n",
      "\n",
      "Please adapt your code to use either `displot` (a figure-level function with\n",
      "similar flexibility) or `histplot` (an axes-level function for histograms).\n",
      "\n",
      "For a guide to updating your code to use the new functions, please see\n",
      "https://gist.github.com/mwaskom/de44147ed2974457ad6372750bbe5751\n",
      "\n",
      "  sns.distplot(df['cases'], bins=25) # Shows extreme values\n"
     ]
    },
    {
     "data": {
      "text/plain": [
       "<Axes: xlabel='cases', ylabel='Density'>"
      ]
     },
     "execution_count": 22,
     "metadata": {},
     "output_type": "execute_result"
    },
    {
     "data": {
      "image/png": "[encoded data removed]",
      "text/plain": [
       "<Figure size 640x480 with 1 Axes>"
      ]
     },
     "metadata": {},
     "output_type": "display_data"
    }
   ],
   "source": [
    "sns.distplot(df['cases'], bins=25) # Shows extreme values\n",
    "\n",
    "# Some of the outliers in the high values may need to be removed, but let's try without doing so first."
   ]
  },
  {
   "cell_type": "code",
   "execution_count": 24,
   "id": "d90333e6",
   "metadata": {},
   "outputs": [
    {
     "data": {
      "text/plain": [
       "13468.40708281382"
      ]
     },
     "execution_count": 24,
     "metadata": {},
     "output_type": "execute_result"
    }
   ],
   "source": [
    "df['cases'].mean() # Check the mean"
   ]
  },
  {
   "cell_type": "code",
   "execution_count": 25,
   "id": "5c744608",
   "metadata": {},
   "outputs": [
    {
     "data": {
      "text/plain": [
       "2206.0"
      ]
     },
     "execution_count": 25,
     "metadata": {},
     "output_type": "execute_result"
    }
   ],
   "source": [
    "df['cases'].median() # Check the median"
   ]
  },
  {
   "cell_type": "code",
   "execution_count": 26,
   "id": "3c2a286f",
   "metadata": {},
   "outputs": [
    {
     "data": {
      "text/plain": [
       "3691301"
      ]
     },
     "execution_count": 26,
     "metadata": {},
     "output_type": "execute_result"
    }
   ],
   "source": [
    "df['cases'].max() # Check the max"
   ]
  },
  {
   "cell_type": "code",
   "execution_count": 27,
   "id": "68c072a6",
   "metadata": {},
   "outputs": [
    {
     "data": {
      "text/html": [
       "<div>\n",
       "<style scoped>\n",
       "    .dataframe tbody tr th:only-of-type {\n",
       "        vertical-align: middle;\n",
       "    }\n",
       "\n",
       "    .dataframe tbody tr th {\n",
       "        vertical-align: top;\n",
       "    }\n",
       "\n",
       "    .dataframe thead th {\n",
       "        text-align: right;\n",
       "    }\n",
       "</style>\n",
       "<table border=\"1\" class=\"dataframe\">\n",
       "  <thead>\n",
       "    <tr style=\"text-align: right;\">\n",
       "      <th></th>\n",
       "      <th>county_code</th>\n",
       "      <th>lat</th>\n",
       "      <th>long</th>\n",
       "      <th>cases</th>\n",
       "      <th>deaths</th>\n",
       "      <th>male</th>\n",
       "      <th>female</th>\n",
       "      <th>median_age</th>\n",
       "      <th>population</th>\n",
       "      <th>female_percentage</th>\n",
       "      <th>death_rate</th>\n",
       "      <th>cases_rate</th>\n",
       "    </tr>\n",
       "  </thead>\n",
       "  <tbody>\n",
       "    <tr>\n",
       "      <th>count</th>\n",
       "      <td>3.480820e+06</td>\n",
       "      <td>3.480820e+06</td>\n",
       "      <td>3.480820e+06</td>\n",
       "      <td>3.480820e+06</td>\n",
       "      <td>3.480820e+06</td>\n",
       "      <td>3.480820e+06</td>\n",
       "      <td>3.480820e+06</td>\n",
       "      <td>3.480820e+06</td>\n",
       "      <td>3.480820e+06</td>\n",
       "      <td>3.480820e+06</td>\n",
       "      <td>3.480820e+06</td>\n",
       "      <td>3.480820e+06</td>\n",
       "    </tr>\n",
       "    <tr>\n",
       "      <th>mean</th>\n",
       "      <td>3.139361e+04</td>\n",
       "      <td>3.796579e+01</td>\n",
       "      <td>-9.166176e+01</td>\n",
       "      <td>1.346841e+04</td>\n",
       "      <td>1.811391e+02</td>\n",
       "      <td>4.987486e+04</td>\n",
       "      <td>5.145743e+04</td>\n",
       "      <td>4.127752e+01</td>\n",
       "      <td>1.013323e+05</td>\n",
       "      <td>4.996125e+01</td>\n",
       "      <td>2.038423e-03</td>\n",
       "      <td>1.309660e-01</td>\n",
       "    </tr>\n",
       "    <tr>\n",
       "      <th>std</th>\n",
       "      <td>1.628955e+04</td>\n",
       "      <td>6.094254e+00</td>\n",
       "      <td>1.338664e+01</td>\n",
       "      <td>6.051912e+04</td>\n",
       "      <td>7.465527e+02</td>\n",
       "      <td>1.601408e+05</td>\n",
       "      <td>1.659431e+05</td>\n",
       "      <td>5.355930e+00</td>\n",
       "      <td>3.260458e+05</td>\n",
       "      <td>2.374558e+00</td>\n",
       "      <td>1.878266e-03</td>\n",
       "      <td>1.149205e-01</td>\n",
       "    </tr>\n",
       "    <tr>\n",
       "      <th>min</th>\n",
       "      <td>1.001000e+03</td>\n",
       "      <td>1.798243e+01</td>\n",
       "      <td>-1.741596e+02</td>\n",
       "      <td>0.000000e+00</td>\n",
       "      <td>0.000000e+00</td>\n",
       "      <td>3.800000e+01</td>\n",
       "      <td>3.700000e+01</td>\n",
       "      <td>2.170000e+01</td>\n",
       "      <td>7.500000e+01</td>\n",
       "      <td>2.100395e+01</td>\n",
       "      <td>0.000000e+00</td>\n",
       "      <td>0.000000e+00</td>\n",
       "    </tr>\n",
       "    <tr>\n",
       "      <th>25%</th>\n",
       "      <td>1.903250e+04</td>\n",
       "      <td>3.435362e+01</td>\n",
       "      <td>-9.808629e+01</td>\n",
       "      <td>3.570000e+02</td>\n",
       "      <td>4.000000e+00</td>\n",
       "      <td>5.657500e+03</td>\n",
       "      <td>5.573000e+03</td>\n",
       "      <td>3.810000e+01</td>\n",
       "      <td>1.121425e+04</td>\n",
       "      <td>4.943335e+01</td>\n",
       "      <td>2.379805e-04</td>\n",
       "      <td>2.040166e-02</td>\n",
       "    </tr>\n",
       "    <tr>\n",
       "      <th>50%</th>\n",
       "      <td>3.002400e+04</td>\n",
       "      <td>3.821271e+01</td>\n",
       "      <td>-8.994512e+01</td>\n",
       "      <td>2.206000e+03</td>\n",
       "      <td>3.700000e+01</td>\n",
       "      <td>1.291650e+04</td>\n",
       "      <td>1.299650e+04</td>\n",
       "      <td>4.120000e+01</td>\n",
       "      <td>2.595050e+04</td>\n",
       "      <td>5.041503e+01</td>\n",
       "      <td>1.710465e-03</td>\n",
       "      <td>1.103359e-01</td>\n",
       "    </tr>\n",
       "    <tr>\n",
       "      <th>75%</th>\n",
       "      <td>4.610550e+04</td>\n",
       "      <td>4.169446e+01</td>\n",
       "      <td>-8.299052e+01</td>\n",
       "      <td>7.772000e+03</td>\n",
       "      <td>1.190000e+02</td>\n",
       "      <td>3.324850e+04</td>\n",
       "      <td>3.353075e+04</td>\n",
       "      <td>4.430000e+01</td>\n",
       "      <td>6.655225e+04</td>\n",
       "      <td>5.114955e+01</td>\n",
       "      <td>3.299513e-03</td>\n",
       "      <td>2.230497e-01</td>\n",
       "    </tr>\n",
       "    <tr>\n",
       "      <th>max</th>\n",
       "      <td>7.215300e+04</td>\n",
       "      <td>6.931479e+01</td>\n",
       "      <td>-6.528813e+01</td>\n",
       "      <td>3.691301e+06</td>\n",
       "      <td>3.525000e+04</td>\n",
       "      <td>4.976788e+06</td>\n",
       "      <td>5.121264e+06</td>\n",
       "      <td>6.700000e+01</td>\n",
       "      <td>1.009805e+07</td>\n",
       "      <td>5.861366e+01</td>\n",
       "      <td>1.510574e-02</td>\n",
       "      <td>3.911765e+00</td>\n",
       "    </tr>\n",
       "  </tbody>\n",
       "</table>\n",
       "</div>"
      ],
      "text/plain": [
       "        county_code           lat          long         cases        deaths  \\\n",
       "count  3.480820e+06  3.480820e+06  3.480820e+06  3.480820e+06  3.480820e+06   \n",
       "mean   3.139361e+04  3.796579e+01 -9.166176e+01  1.346841e+04  1.811391e+02   \n",
       "std    1.628955e+04  6.094254e+00  1.338664e+01  6.051912e+04  7.465527e+02   \n",
       "min    1.001000e+03  1.798243e+01 -1.741596e+02  0.000000e+00  0.000000e+00   \n",
       "25%    1.903250e+04  3.435362e+01 -9.808629e+01  3.570000e+02  4.000000e+00   \n",
       "50%    3.002400e+04  3.821271e+01 -8.994512e+01  2.206000e+03  3.700000e+01   \n",
       "75%    4.610550e+04  4.169446e+01 -8.299052e+01  7.772000e+03  1.190000e+02   \n",
       "max    7.215300e+04  6.931479e+01 -6.528813e+01  3.691301e+06  3.525000e+04   \n",
       "\n",
       "               male        female    median_age    population  \\\n",
       "count  3.480820e+06  3.480820e+06  3.480820e+06  3.480820e+06   \n",
       "mean   4.987486e+04  5.145743e+04  4.127752e+01  1.013323e+05   \n",
       "std    1.601408e+05  1.659431e+05  5.355930e+00  3.260458e+05   \n",
       "min    3.800000e+01  3.700000e+01  2.170000e+01  7.500000e+01   \n",
       "25%    5.657500e+03  5.573000e+03  3.810000e+01  1.121425e+04   \n",
       "50%    1.291650e+04  1.299650e+04  4.120000e+01  2.595050e+04   \n",
       "75%    3.324850e+04  3.353075e+04  4.430000e+01  6.655225e+04   \n",
       "max    4.976788e+06  5.121264e+06  6.700000e+01  1.009805e+07   \n",
       "\n",
       "       female_percentage    death_rate    cases_rate  \n",
       "count       3.480820e+06  3.480820e+06  3.480820e+06  \n",
       "mean        4.996125e+01  2.038423e-03  1.309660e-01  \n",
       "std         2.374558e+00  1.878266e-03  1.149205e-01  \n",
       "min         2.100395e+01  0.000000e+00  0.000000e+00  \n",
       "25%         4.943335e+01  2.379805e-04  2.040166e-02  \n",
       "50%         5.041503e+01  1.710465e-03  1.103359e-01  \n",
       "75%         5.114955e+01  3.299513e-03  2.230497e-01  \n",
       "max         5.861366e+01  1.510574e-02  3.911765e+00  "
      ]
     },
     "execution_count": 27,
     "metadata": {},
     "output_type": "execute_result"
    }
   ],
   "source": [
    "# Statistical Analysis df\n",
    "df.describe()"
   ]
  },
  {
   "cell_type": "code",
   "execution_count": 107,
   "id": "c71e475d",
   "metadata": {},
   "outputs": [
    {
     "name": "stdout",
     "output_type": "stream",
     "text": [
      "              cases\n",
      "count  3.480820e+06\n",
      "mean   1.346841e+04\n",
      "std    6.051912e+04\n",
      "min    0.000000e+00\n",
      "25%    3.570000e+02\n",
      "50%    2.206000e+03\n",
      "75%    7.772000e+03\n",
      "max    3.691301e+06\n"
     ]
    }
   ],
   "source": [
    "# Select cloumns 'cases' y 'deaths'\n",
    "selected_columns = df[['cases']]\n",
    "\n",
    "# Run describe() \n",
    "summary = selected_columns.describe()\n",
    "\n",
    "# Show the Result\n",
    "print(summary)"
   ]
  },
  {
   "cell_type": "markdown",
   "id": "bf3dbff8",
   "metadata": {},
   "source": [
    "### Checking extreme values for \"deaths\""
   ]
  },
  {
   "cell_type": "code",
   "execution_count": 95,
   "id": "d4654218",
   "metadata": {},
   "outputs": [
    {
     "name": "stderr",
     "output_type": "stream",
     "text": [
      "/var/folders/5j/49cjqn4n79n3w8yw5rj_8hhh0000gn/T/ipykernel_58715/3238055750.py:1: UserWarning: \n",
      "\n",
      "`distplot` is a deprecated function and will be removed in seaborn v0.14.0.\n",
      "\n",
      "Please adapt your code to use either `displot` (a figure-level function with\n",
      "similar flexibility) or `histplot` (an axes-level function for histograms).\n",
      "\n",
      "For a guide to updating your code to use the new functions, please see\n",
      "https://gist.github.com/mwaskom/de44147ed2974457ad6372750bbe5751\n",
      "\n",
      "  sns.distplot(df['deaths'], bins=25) # Shows extreme values\n"
     ]
    },
    {
     "data": {
      "text/plain": [
       "<Axes: xlabel='deaths', ylabel='Density'>"
      ]
     },
     "execution_count": 95,
     "metadata": {},
     "output_type": "execute_result"
    },
    {
     "data": {
      "image/png": "[encoded data removed]",
      "text/plain": [
       "<Figure size 640x480 with 1 Axes>"
      ]
     },
     "metadata": {},
     "output_type": "display_data"
    }
   ],
   "source": [
    "sns.distplot(df['deaths'], bins=25) # Shows extreme values\n",
    "\n",
    "# Some of the outliers in the high values may need to be removed, but let's try without doing so first."
   ]
  },
  {
   "cell_type": "code",
   "execution_count": 96,
   "id": "6c290cec",
   "metadata": {},
   "outputs": [
    {
     "data": {
      "text/plain": [
       "181.13912555087595"
      ]
     },
     "execution_count": 96,
     "metadata": {},
     "output_type": "execute_result"
    }
   ],
   "source": [
    "df['deaths'].mean() # Check the mean"
   ]
  },
  {
   "cell_type": "code",
   "execution_count": 97,
   "id": "8e573610",
   "metadata": {},
   "outputs": [
    {
     "data": {
      "text/plain": [
       "37.0"
      ]
     },
     "execution_count": 97,
     "metadata": {},
     "output_type": "execute_result"
    }
   ],
   "source": [
    "df['deaths'].median() # Check the median"
   ]
  },
  {
   "cell_type": "code",
   "execution_count": 98,
   "id": "4bd30bf3",
   "metadata": {},
   "outputs": [
    {
     "data": {
      "text/plain": [
       "35250"
      ]
     },
     "execution_count": 98,
     "metadata": {},
     "output_type": "execute_result"
    }
   ],
   "source": [
    "df['deaths'].max() # Check the max"
   ]
  },
  {
   "cell_type": "code",
   "execution_count": 106,
   "id": "ac1afa2c",
   "metadata": {},
   "outputs": [
    {
     "name": "stdout",
     "output_type": "stream",
     "text": [
      "             deaths\n",
      "count  3.480820e+06\n",
      "mean   1.811391e+02\n",
      "std    7.465527e+02\n",
      "min    0.000000e+00\n",
      "25%    4.000000e+00\n",
      "50%    3.700000e+01\n",
      "75%    1.190000e+02\n",
      "max    3.525000e+04\n"
     ]
    }
   ],
   "source": [
    "# Select cloumns 'cases' y 'deaths'\n",
    "selected_columns_2 = df[['deaths']]\n",
    "\n",
    "# Run describe() \n",
    "summary_2 = selected_columns_2.describe()\n",
    "\n",
    "# Show the Result\n",
    "print(summary_2)"
   ]
  },
  {
   "cell_type": "markdown",
   "id": "76253c33",
   "metadata": {},
   "source": [
    "### Checking extreme values for \"population\""
   ]
  },
  {
   "cell_type": "code",
   "execution_count": 101,
   "id": "42328e61",
   "metadata": {},
   "outputs": [
    {
     "name": "stderr",
     "output_type": "stream",
     "text": [
      "/var/folders/5j/49cjqn4n79n3w8yw5rj_8hhh0000gn/T/ipykernel_58715/211263016.py:1: UserWarning: \n",
      "\n",
      "`distplot` is a deprecated function and will be removed in seaborn v0.14.0.\n",
      "\n",
      "Please adapt your code to use either `displot` (a figure-level function with\n",
      "similar flexibility) or `histplot` (an axes-level function for histograms).\n",
      "\n",
      "For a guide to updating your code to use the new functions, please see\n",
      "https://gist.github.com/mwaskom/de44147ed2974457ad6372750bbe5751\n",
      "\n",
      "  sns.distplot(df['population'], bins=25) # Shows extreme values\n"
     ]
    },
    {
     "data": {
      "text/plain": [
       "<Axes: xlabel='population', ylabel='Density'>"
      ]
     },
     "execution_count": 101,
     "metadata": {},
     "output_type": "execute_result"
    },
    {
     "data": {
      "image/png": "[encoded data removed]",
      "text/plain": [
       "<Figure size 640x480 with 1 Axes>"
      ]
     },
     "metadata": {},
     "output_type": "display_data"
    }
   ],
   "source": [
    "sns.distplot(df['population'], bins=25) # Shows extreme values\n",
    "\n",
    "# Some of the outliers in the high values may need to be removed, but let's try without doing so first."
   ]
  },
  {
   "cell_type": "code",
   "execution_count": 102,
   "id": "2df6c520",
   "metadata": {},
   "outputs": [
    {
     "data": {
      "text/plain": [
       "101332.28913043479"
      ]
     },
     "execution_count": 102,
     "metadata": {},
     "output_type": "execute_result"
    }
   ],
   "source": [
    "df['population'].mean() # Check the mean"
   ]
  },
  {
   "cell_type": "code",
   "execution_count": 103,
   "id": "10280806",
   "metadata": {},
   "outputs": [
    {
     "data": {
      "text/plain": [
       "25950.5"
      ]
     },
     "execution_count": 103,
     "metadata": {},
     "output_type": "execute_result"
    }
   ],
   "source": [
    "df['population'].median() # Check the median"
   ]
  },
  {
   "cell_type": "code",
   "execution_count": 104,
   "id": "ff75b747",
   "metadata": {},
   "outputs": [
    {
     "data": {
      "text/plain": [
       "10098052"
      ]
     },
     "execution_count": 104,
     "metadata": {},
     "output_type": "execute_result"
    }
   ],
   "source": [
    "df['population'].max() # Check the max"
   ]
  },
  {
   "cell_type": "code",
   "execution_count": 105,
   "id": "46c4fe74",
   "metadata": {},
   "outputs": [
    {
     "name": "stdout",
     "output_type": "stream",
     "text": [
      "         population\n",
      "count  3.480820e+06\n",
      "mean   1.013323e+05\n",
      "std    3.260458e+05\n",
      "min    7.500000e+01\n",
      "25%    1.121425e+04\n",
      "50%    2.595050e+04\n",
      "75%    6.655225e+04\n",
      "max    1.009805e+07\n"
     ]
    }
   ],
   "source": [
    "# Select cloumns 'cases' y 'deaths'\n",
    "selected_columns_3 = df[['population']]\n",
    "\n",
    "# Run describe() \n",
    "summary_3 = selected_columns_3.describe()\n",
    "\n",
    "# Show the Result\n",
    "print(summary_3)"
   ]
  },
  {
   "cell_type": "markdown",
   "id": "10e1f9ab",
   "metadata": {},
   "source": [
    "# 3. Data prep for regression analysis (cases vs deaths)"
   ]
  },
  {
   "cell_type": "code",
   "execution_count": 29,
   "id": "5a2a5e1a",
   "metadata": {
    "scrolled": true
   },
   "outputs": [
    {
     "data": {
      "image/png": "[encoded data removed]",
      "text/plain": [
       "<Figure size 640x480 with 1 Axes>"
      ]
     },
     "metadata": {},
     "output_type": "display_data"
    }
   ],
   "source": [
    "# Create a scatterplot using matplotlib for another look at how the chosen variables plot against each other.\n",
    "\n",
    "df.plot(x = 'cases', y='deaths',style='o') # The style option creates a scatterplot; without it, we only have lines.\n",
    "plt.title('Number of cases vs Number of deaths')  \n",
    "plt.xlabel('cases')  \n",
    "plt.ylabel('deaths')  \n",
    "plt.show()"
   ]
  },
  {
   "cell_type": "code",
   "execution_count": 30,
   "id": "aa790ac0",
   "metadata": {},
   "outputs": [],
   "source": [
    "# Reshape the variables into NumPy arrays and put them into separate objects.\n",
    "\n",
    "X = df['cases'].values.reshape(-1,1)\n",
    "y = df['deaths'].values.reshape(-1,1)"
   ]
  },
  {
   "cell_type": "code",
   "execution_count": 31,
   "id": "2f499e12",
   "metadata": {},
   "outputs": [],
   "source": [
    "# Split data into a training set and a test set.\n",
    "\n",
    "X_train, X_test, y_train, y_test = train_test_split(X, y, test_size=0.3, random_state=0)"
   ]
  },
  {
   "cell_type": "markdown",
   "id": "2ae045c3",
   "metadata": {},
   "source": [
    "# 4. Regression analysis (cases vs deaths)"
   ]
  },
  {
   "cell_type": "code",
   "execution_count": 32,
   "id": "ca0f8318",
   "metadata": {},
   "outputs": [],
   "source": [
    "# Create a regression object.\n",
    "\n",
    "regression = LinearRegression()  # This is the regression object, which will be fit onto the training set."
   ]
  },
  {
   "cell_type": "code",
   "execution_count": 33,
   "id": "85ba4465",
   "metadata": {},
   "outputs": [
    {
     "data": {
      "text/html": [
       "<style>#sk-container-id-1 {color: black;}#sk-container-id-1 pre{padding: 0;}#sk-container-id-1 div.sk-toggleable {background-color: white;}#sk-container-id-1 label.sk-toggleable__label {cursor: pointer;display: block;width: 100%;margin-bottom: 0;padding: 0.3em;box-sizing: border-box;text-align: center;}#sk-container-id-1 label.sk-toggleable__label-arrow:before {content: \"▸\";float: left;margin-right: 0.25em;color: #696969;}#sk-container-id-1 label.sk-toggleable__label-arrow:hover:before {color: black;}#sk-container-id-1 div.sk-estimator:hover label.sk-toggleable__label-arrow:before {color: black;}#sk-container-id-1 div.sk-toggleable__content {max-height: 0;max-width: 0;overflow: hidden;text-align: left;background-color: #f0f8ff;}#sk-container-id-1 div.sk-toggleable__content pre {margin: 0.2em;color: black;border-radius: 0.25em;background-color: #f0f8ff;}#sk-container-id-1 input.sk-toggleable__control:checked~div.sk-toggleable__content {max-height: 200px;max-width: 100%;overflow: auto;}#sk-container-id-1 input.sk-toggleable__control:checked~label.sk-toggleable__label-arrow:before {content: \"▾\";}#sk-container-id-1 div.sk-estimator input.sk-toggleable__control:checked~label.sk-toggleable__label {background-color: #d4ebff;}#sk-container-id-1 div.sk-label input.sk-toggleable__control:checked~label.sk-toggleable__label {background-color: #d4ebff;}#sk-container-id-1 input.sk-hidden--visually {border: 0;clip: rect(1px 1px 1px 1px);clip: rect(1px, 1px, 1px, 1px);height: 1px;margin: -1px;overflow: hidden;padding: 0;position: absolute;width: 1px;}#sk-container-id-1 div.sk-estimator {font-family: monospace;background-color: #f0f8ff;border: 1px dotted black;border-radius: 0.25em;box-sizing: border-box;margin-bottom: 0.5em;}#sk-container-id-1 div.sk-estimator:hover {background-color: #d4ebff;}#sk-container-id-1 div.sk-parallel-item::after {content: \"\";width: 100%;border-bottom: 1px solid gray;flex-grow: 1;}#sk-container-id-1 div.sk-label:hover label.sk-toggleable__label {background-color: #d4ebff;}#sk-container-id-1 div.sk-serial::before {content: \"\";position: absolute;border-left: 1px solid gray;box-sizing: border-box;top: 0;bottom: 0;left: 50%;z-index: 0;}#sk-container-id-1 div.sk-serial {display: flex;flex-direction: column;align-items: center;background-color: white;padding-right: 0.2em;padding-left: 0.2em;position: relative;}#sk-container-id-1 div.sk-item {position: relative;z-index: 1;}#sk-container-id-1 div.sk-parallel {display: flex;align-items: stretch;justify-content: center;background-color: white;position: relative;}#sk-container-id-1 div.sk-item::before, #sk-container-id-1 div.sk-parallel-item::before {content: \"\";position: absolute;border-left: 1px solid gray;box-sizing: border-box;top: 0;bottom: 0;left: 50%;z-index: -1;}#sk-container-id-1 div.sk-parallel-item {display: flex;flex-direction: column;z-index: 1;position: relative;background-color: white;}#sk-container-id-1 div.sk-parallel-item:first-child::after {align-self: flex-end;width: 50%;}#sk-container-id-1 div.sk-parallel-item:last-child::after {align-self: flex-start;width: 50%;}#sk-container-id-1 div.sk-parallel-item:only-child::after {width: 0;}#sk-container-id-1 div.sk-dashed-wrapped {border: 1px dashed gray;margin: 0 0.4em 0.5em 0.4em;box-sizing: border-box;padding-bottom: 0.4em;background-color: white;}#sk-container-id-1 div.sk-label label {font-family: monospace;font-weight: bold;display: inline-block;line-height: 1.2em;}#sk-container-id-1 div.sk-label-container {text-align: center;}#sk-container-id-1 div.sk-container {/* jupyter's `normalize.less` sets `[hidden] { display: none; }` but bootstrap.min.css set `[hidden] { display: none !important; }` so we also need the `!important` here to be able to override the default hidden behavior on the sphinx rendered scikit-learn.org. See: https://github.com/scikit-learn/scikit-learn/issues/21755 */display: inline-block !important;position: relative;}#sk-container-id-1 div.sk-text-repr-fallback {display: none;}</style><div id=\"sk-container-id-1\" class=\"sk-top-container\"><div class=\"sk-text-repr-fallback\"><pre>LinearRegression()</pre><b>In a Jupyter environment, please rerun this cell to show the HTML representation or trust the notebook. <br />On GitHub, the HTML representation is unable to render, please try loading this page with nbviewer.org.</b></div><div class=\"sk-container\" hidden><div class=\"sk-item\"><div class=\"sk-estimator sk-toggleable\"><input class=\"sk-toggleable__control sk-hidden--visually\" id=\"sk-estimator-id-1\" type=\"checkbox\" checked><label for=\"sk-estimator-id-1\" class=\"sk-toggleable__label sk-toggleable__label-arrow\">LinearRegression</label><div class=\"sk-toggleable__content\"><pre>LinearRegression()</pre></div></div></div></div></div>"
      ],
      "text/plain": [
       "LinearRegression()"
      ]
     },
     "execution_count": 33,
     "metadata": {},
     "output_type": "execute_result"
    }
   ],
   "source": [
    "# Fit the regression object onto the training set.\n",
    "\n",
    "regression.fit(X_train, y_train)"
   ]
  },
  {
   "cell_type": "code",
   "execution_count": 34,
   "id": "d11a3393",
   "metadata": {},
   "outputs": [],
   "source": [
    "# Predict the values of y using X.\n",
    "\n",
    "y_predicted = regression.predict(X_test)"
   ]
  },
  {
   "cell_type": "code",
   "execution_count": 35,
   "id": "3219dad7",
   "metadata": {},
   "outputs": [
    {
     "data": {
      "image/png": "[encoded data removed]",
      "text/plain": [
       "<Figure size 640x480 with 1 Axes>"
      ]
     },
     "metadata": {},
     "output_type": "display_data"
    }
   ],
   "source": [
    "# Create a plot that shows the regression line from the model on the test set.\n",
    "\n",
    "plot_test = plt\n",
    "plot_test.scatter(X_test, y_test, color='gray', s = 15)\n",
    "plot_test.plot(X_test, y_predicted, color='red', linewidth =3)\n",
    "plot_test.title('cases vs deaths (Test set)')\n",
    "plot_test.xlabel('cases')\n",
    "plot_test.ylabel('deaths')\n",
    "plot_test.show()"
   ]
  },
  {
   "cell_type": "markdown",
   "id": "1d05850f",
   "metadata": {},
   "source": [
    "### Hypothesis: The more cases, more deaths "
   ]
  },
  {
   "cell_type": "code",
   "execution_count": 36,
   "id": "9981a528",
   "metadata": {},
   "outputs": [],
   "source": [
    "# Create objects that contain the model summary statistics.\n",
    "\n",
    "rmse = mean_squared_error(y_test, y_predicted) # This is the mean squared error\n",
    "r2 = r2_score(y_test, y_predicted) # This is the R2 score. "
   ]
  },
  {
   "cell_type": "code",
   "execution_count": 37,
   "id": "bdfa2137",
   "metadata": {},
   "outputs": [
    {
     "name": "stdout",
     "output_type": "stream",
     "text": [
      "Slope: [[0.01150706]]\n",
      "Mean squared error:  71700.24213054185\n",
      "R2 score:  0.8709852406019164\n"
     ]
    }
   ],
   "source": [
    "# Print the model summary statistics. This is where you evaluate the performance of the model.\n",
    "\n",
    "print('Slope:' ,regression.coef_)\n",
    "print('Mean squared error: ', rmse)\n",
    "print('R2 score: ', r2)"
   ]
  },
  {
   "cell_type": "markdown",
   "id": "781bcdde",
   "metadata": {},
   "source": [
    "1. **Slope: 0.01150706**\n",
    "   - The slope represents the coefficient of the 'cases' variable in the linear regression model. In this context, it suggests that for each unit increase in 'cases,' the model predicts an increase in 'deaths' by approximately 0.01150706 units. This indicates a positive relationship between 'cases' and 'deaths.'\n",
    "\n",
    "2. **Mean Squared Error: 71700.24213054185**\n",
    "   - The Mean Squared Error (MSE) measures the average squared difference between the actual 'deaths' values and the predicted 'deaths' values by the linear regression model. A lower MSE indicates a better fit of the model to the data. In this case, the MSE of approximately 71,700.24 suggests that there is some variation in the 'deaths' that is not explained by the 'cases' variable.\n",
    "\n",
    "3. **R2 Score: 0.8709852406019164**\n",
    "   - The R-squared (R2) score (coefficient of determination), measures the proportion of variance in the 'deaths' variable that can be explained by the 'cases' variable. An R2 score of 0.8709 means that approximately 87.10% of the variance in 'deaths' can be explained by the 'cases' variable according to the linear regression model. In other words, the 'cases' variable is a strong predictor of 'deaths' in the model, explaining a significant portion of the variance.\n",
    "\n",
    "Overall, these statistics suggest that there is a positive linear relationship between 'cases' and 'deaths,' with the 'cases' variable explaining a substantial portion of the variance in 'deaths.' However, there is still some unexplained variance, as indicated by the MSE."
   ]
  },
  {
   "cell_type": "code",
   "execution_count": 38,
   "id": "a66a1016",
   "metadata": {},
   "outputs": [
    {
     "data": {
      "text/plain": [
       "array([[256.00719126],\n",
       "       [271.02390146],\n",
       "       [ 48.66151998],\n",
       "       ...,\n",
       "       [104.60883413],\n",
       "       [ 46.53271432],\n",
       "       [ 76.37051473]])"
      ]
     },
     "execution_count": 38,
     "metadata": {},
     "output_type": "execute_result"
    }
   ],
   "source": [
    "y_predicted"
   ]
  },
  {
   "cell_type": "code",
   "execution_count": 39,
   "id": "8d01433b",
   "metadata": {},
   "outputs": [
    {
     "data": {
      "text/html": [
       "<div>\n",
       "<style scoped>\n",
       "    .dataframe tbody tr th:only-of-type {\n",
       "        vertical-align: middle;\n",
       "    }\n",
       "\n",
       "    .dataframe tbody tr th {\n",
       "        vertical-align: top;\n",
       "    }\n",
       "\n",
       "    .dataframe thead th {\n",
       "        text-align: right;\n",
       "    }\n",
       "</style>\n",
       "<table border=\"1\" class=\"dataframe\">\n",
       "  <thead>\n",
       "    <tr style=\"text-align: right;\">\n",
       "      <th></th>\n",
       "      <th>Actual</th>\n",
       "      <th>Predicted</th>\n",
       "    </tr>\n",
       "  </thead>\n",
       "  <tbody>\n",
       "    <tr>\n",
       "      <th>0</th>\n",
       "      <td>227</td>\n",
       "      <td>256.007191</td>\n",
       "    </tr>\n",
       "    <tr>\n",
       "      <th>1</th>\n",
       "      <td>194</td>\n",
       "      <td>271.023901</td>\n",
       "    </tr>\n",
       "    <tr>\n",
       "      <th>2</th>\n",
       "      <td>17</td>\n",
       "      <td>48.661520</td>\n",
       "    </tr>\n",
       "    <tr>\n",
       "      <th>3</th>\n",
       "      <td>1</td>\n",
       "      <td>26.314814</td>\n",
       "    </tr>\n",
       "    <tr>\n",
       "      <th>4</th>\n",
       "      <td>278</td>\n",
       "      <td>155.182352</td>\n",
       "    </tr>\n",
       "    <tr>\n",
       "      <th>5</th>\n",
       "      <td>152</td>\n",
       "      <td>54.886838</td>\n",
       "    </tr>\n",
       "    <tr>\n",
       "      <th>6</th>\n",
       "      <td>29</td>\n",
       "      <td>43.057583</td>\n",
       "    </tr>\n",
       "    <tr>\n",
       "      <th>7</th>\n",
       "      <td>184</td>\n",
       "      <td>127.116639</td>\n",
       "    </tr>\n",
       "    <tr>\n",
       "      <th>8</th>\n",
       "      <td>1</td>\n",
       "      <td>27.177843</td>\n",
       "    </tr>\n",
       "    <tr>\n",
       "      <th>9</th>\n",
       "      <td>224</td>\n",
       "      <td>180.854598</td>\n",
       "    </tr>\n",
       "    <tr>\n",
       "      <th>10</th>\n",
       "      <td>3</td>\n",
       "      <td>29.467748</td>\n",
       "    </tr>\n",
       "    <tr>\n",
       "      <th>11</th>\n",
       "      <td>84</td>\n",
       "      <td>139.555768</td>\n",
       "    </tr>\n",
       "    <tr>\n",
       "      <th>12</th>\n",
       "      <td>264</td>\n",
       "      <td>303.623396</td>\n",
       "    </tr>\n",
       "    <tr>\n",
       "      <th>13</th>\n",
       "      <td>101</td>\n",
       "      <td>149.026077</td>\n",
       "    </tr>\n",
       "    <tr>\n",
       "      <th>14</th>\n",
       "      <td>0</td>\n",
       "      <td>26.326321</td>\n",
       "    </tr>\n",
       "    <tr>\n",
       "      <th>15</th>\n",
       "      <td>2</td>\n",
       "      <td>27.327435</td>\n",
       "    </tr>\n",
       "    <tr>\n",
       "      <th>16</th>\n",
       "      <td>1467</td>\n",
       "      <td>1095.320467</td>\n",
       "    </tr>\n",
       "    <tr>\n",
       "      <th>17</th>\n",
       "      <td>32</td>\n",
       "      <td>41.515637</td>\n",
       "    </tr>\n",
       "    <tr>\n",
       "      <th>18</th>\n",
       "      <td>86</td>\n",
       "      <td>74.218695</td>\n",
       "    </tr>\n",
       "    <tr>\n",
       "      <th>19</th>\n",
       "      <td>50</td>\n",
       "      <td>56.198643</td>\n",
       "    </tr>\n",
       "    <tr>\n",
       "      <th>20</th>\n",
       "      <td>101</td>\n",
       "      <td>107.048330</td>\n",
       "    </tr>\n",
       "    <tr>\n",
       "      <th>21</th>\n",
       "      <td>31</td>\n",
       "      <td>40.364931</td>\n",
       "    </tr>\n",
       "    <tr>\n",
       "      <th>22</th>\n",
       "      <td>0</td>\n",
       "      <td>26.188236</td>\n",
       "    </tr>\n",
       "    <tr>\n",
       "      <th>23</th>\n",
       "      <td>0</td>\n",
       "      <td>29.076508</td>\n",
       "    </tr>\n",
       "    <tr>\n",
       "      <th>24</th>\n",
       "      <td>0</td>\n",
       "      <td>26.188236</td>\n",
       "    </tr>\n",
       "    <tr>\n",
       "      <th>25</th>\n",
       "      <td>17</td>\n",
       "      <td>56.808517</td>\n",
       "    </tr>\n",
       "    <tr>\n",
       "      <th>26</th>\n",
       "      <td>8</td>\n",
       "      <td>27.166336</td>\n",
       "    </tr>\n",
       "    <tr>\n",
       "      <th>27</th>\n",
       "      <td>104</td>\n",
       "      <td>97.773642</td>\n",
       "    </tr>\n",
       "    <tr>\n",
       "      <th>28</th>\n",
       "      <td>29</td>\n",
       "      <td>52.631455</td>\n",
       "    </tr>\n",
       "    <tr>\n",
       "      <th>29</th>\n",
       "      <td>0</td>\n",
       "      <td>26.222758</td>\n",
       "    </tr>\n",
       "  </tbody>\n",
       "</table>\n",
       "</div>"
      ],
      "text/plain": [
       "    Actual    Predicted\n",
       "0      227   256.007191\n",
       "1      194   271.023901\n",
       "2       17    48.661520\n",
       "3        1    26.314814\n",
       "4      278   155.182352\n",
       "5      152    54.886838\n",
       "6       29    43.057583\n",
       "7      184   127.116639\n",
       "8        1    27.177843\n",
       "9      224   180.854598\n",
       "10       3    29.467748\n",
       "11      84   139.555768\n",
       "12     264   303.623396\n",
       "13     101   149.026077\n",
       "14       0    26.326321\n",
       "15       2    27.327435\n",
       "16    1467  1095.320467\n",
       "17      32    41.515637\n",
       "18      86    74.218695\n",
       "19      50    56.198643\n",
       "20     101   107.048330\n",
       "21      31    40.364931\n",
       "22       0    26.188236\n",
       "23       0    29.076508\n",
       "24       0    26.188236\n",
       "25      17    56.808517\n",
       "26       8    27.166336\n",
       "27     104    97.773642\n",
       "28      29    52.631455\n",
       "29       0    26.222758"
      ]
     },
     "execution_count": 39,
     "metadata": {},
     "output_type": "execute_result"
    }
   ],
   "source": [
    "# Create a dataframe comparing the actual and predicted values of y.\n",
    "\n",
    "data = pd.DataFrame({'Actual': y_test.flatten(), 'Predicted': y_predicted.flatten()})\n",
    "data.head(30)"
   ]
  },
  {
   "cell_type": "markdown",
   "id": "ff90825a",
   "metadata": {},
   "source": [
    "### Compare how the regression fits the training set"
   ]
  },
  {
   "cell_type": "code",
   "execution_count": 40,
   "id": "f4f0b290",
   "metadata": {},
   "outputs": [],
   "source": [
    "# Predict.\n",
    "\n",
    "y_predicted_train = regression.predict(X_train) # This is predicting X_train!"
   ]
  },
  {
   "cell_type": "code",
   "execution_count": 41,
   "id": "46aa25fe",
   "metadata": {},
   "outputs": [],
   "source": [
    "rmse = mean_squared_error(y_train, y_predicted_train)\n",
    "r2 = r2_score(y_train, y_predicted_train)"
   ]
  },
  {
   "cell_type": "code",
   "execution_count": 42,
   "id": "d7ddb724",
   "metadata": {},
   "outputs": [
    {
     "name": "stdout",
     "output_type": "stream",
     "text": [
      "Slope: [[0.01150706]]\n",
      "Mean squared error:  72027.67229443039\n",
      "R2 score:  0.8709231156187329\n"
     ]
    }
   ],
   "source": [
    "print('Slope:' ,regression.coef_)\n",
    "print('Mean squared error: ', rmse)\n",
    "print('R2 score: ', r2)"
   ]
  },
  {
   "cell_type": "code",
   "execution_count": 44,
   "id": "2e6e6501",
   "metadata": {},
   "outputs": [
    {
     "data": {
      "image/png": "[encoded data removed]",
      "text/plain": [
       "<Figure size 640x480 with 1 Axes>"
      ]
     },
     "metadata": {},
     "output_type": "display_data"
    }
   ],
   "source": [
    "# Visualizing the training set results.\n",
    "\n",
    "plot_test = plt\n",
    "plot_test.scatter(X_train, y_train, color='green', s = 15)\n",
    "plot_test.plot(X_train, y_predicted_train, color='red', linewidth =3)\n",
    "plot_test.title('cases vs deaths (Train set)')\n",
    "plot_test.xlabel('cases')\n",
    "plot_test.ylabel('deaths')\n",
    "plot_test.show()"
   ]
  },
  {
   "cell_type": "markdown",
   "id": "c9454bb5",
   "metadata": {},
   "source": [
    "# 3.1 Data prep for regression analysis (population vs cases)"
   ]
  },
  {
   "cell_type": "code",
   "execution_count": 46,
   "id": "6744271c",
   "metadata": {},
   "outputs": [
    {
     "data": {
      "image/png": "[encoded data removed]",
      "text/plain": [
       "<Figure size 640x480 with 1 Axes>"
      ]
     },
     "metadata": {},
     "output_type": "display_data"
    }
   ],
   "source": [
    "# Create a scatterplot using matplotlib for another look at how the chosen variables plot against each other.\n",
    "\n",
    "df.plot(x = 'population', y='cases',style='o') # The style option creates a scatterplot; without it, we only have lines.\n",
    "plt.title('Population vs Number of cases')  \n",
    "plt.xlabel('Population')  \n",
    "plt.ylabel('Number of Cases')  \n",
    "plt.show()"
   ]
  },
  {
   "cell_type": "code",
   "execution_count": 59,
   "id": "de66f33f",
   "metadata": {},
   "outputs": [],
   "source": [
    "# Reshape the variables into NumPy arrays and put them into separate objects.\n",
    "\n",
    "X_2= df['population'].values.reshape(-1,1)\n",
    "y_2= df['cases'].values.reshape(-1,1)"
   ]
  },
  {
   "cell_type": "code",
   "execution_count": 61,
   "id": "516f0763",
   "metadata": {},
   "outputs": [],
   "source": [
    "# Split data into a training set and a test set.\n",
    "\n",
    "X_train_2, X_test_2, y_train_2, y_test_2 = train_test_split(X_2, y_2, test_size=0.3, random_state=0)"
   ]
  },
  {
   "cell_type": "markdown",
   "id": "2da51729",
   "metadata": {},
   "source": [
    "# 4. Regression analysis (population vs cases)"
   ]
  },
  {
   "cell_type": "code",
   "execution_count": 50,
   "id": "3243702d",
   "metadata": {},
   "outputs": [],
   "source": [
    "# Create a regression object.\n",
    "\n",
    "regression = LinearRegression()  # This is the regression object, which will be fit onto the training set."
   ]
  },
  {
   "cell_type": "code",
   "execution_count": 62,
   "id": "0614b085",
   "metadata": {},
   "outputs": [
    {
     "data": {
      "text/html": [
       "<style>#sk-container-id-3 {color: black;}#sk-container-id-3 pre{padding: 0;}#sk-container-id-3 div.sk-toggleable {background-color: white;}#sk-container-id-3 label.sk-toggleable__label {cursor: pointer;display: block;width: 100%;margin-bottom: 0;padding: 0.3em;box-sizing: border-box;text-align: center;}#sk-container-id-3 label.sk-toggleable__label-arrow:before {content: \"▸\";float: left;margin-right: 0.25em;color: #696969;}#sk-container-id-3 label.sk-toggleable__label-arrow:hover:before {color: black;}#sk-container-id-3 div.sk-estimator:hover label.sk-toggleable__label-arrow:before {color: black;}#sk-container-id-3 div.sk-toggleable__content {max-height: 0;max-width: 0;overflow: hidden;text-align: left;background-color: #f0f8ff;}#sk-container-id-3 div.sk-toggleable__content pre {margin: 0.2em;color: black;border-radius: 0.25em;background-color: #f0f8ff;}#sk-container-id-3 input.sk-toggleable__control:checked~div.sk-toggleable__content {max-height: 200px;max-width: 100%;overflow: auto;}#sk-container-id-3 input.sk-toggleable__control:checked~label.sk-toggleable__label-arrow:before {content: \"▾\";}#sk-container-id-3 div.sk-estimator input.sk-toggleable__control:checked~label.sk-toggleable__label {background-color: #d4ebff;}#sk-container-id-3 div.sk-label input.sk-toggleable__control:checked~label.sk-toggleable__label {background-color: #d4ebff;}#sk-container-id-3 input.sk-hidden--visually {border: 0;clip: rect(1px 1px 1px 1px);clip: rect(1px, 1px, 1px, 1px);height: 1px;margin: -1px;overflow: hidden;padding: 0;position: absolute;width: 1px;}#sk-container-id-3 div.sk-estimator {font-family: monospace;background-color: #f0f8ff;border: 1px dotted black;border-radius: 0.25em;box-sizing: border-box;margin-bottom: 0.5em;}#sk-container-id-3 div.sk-estimator:hover {background-color: #d4ebff;}#sk-container-id-3 div.sk-parallel-item::after {content: \"\";width: 100%;border-bottom: 1px solid gray;flex-grow: 1;}#sk-container-id-3 div.sk-label:hover label.sk-toggleable__label {background-color: #d4ebff;}#sk-container-id-3 div.sk-serial::before {content: \"\";position: absolute;border-left: 1px solid gray;box-sizing: border-box;top: 0;bottom: 0;left: 50%;z-index: 0;}#sk-container-id-3 div.sk-serial {display: flex;flex-direction: column;align-items: center;background-color: white;padding-right: 0.2em;padding-left: 0.2em;position: relative;}#sk-container-id-3 div.sk-item {position: relative;z-index: 1;}#sk-container-id-3 div.sk-parallel {display: flex;align-items: stretch;justify-content: center;background-color: white;position: relative;}#sk-container-id-3 div.sk-item::before, #sk-container-id-3 div.sk-parallel-item::before {content: \"\";position: absolute;border-left: 1px solid gray;box-sizing: border-box;top: 0;bottom: 0;left: 50%;z-index: -1;}#sk-container-id-3 div.sk-parallel-item {display: flex;flex-direction: column;z-index: 1;position: relative;background-color: white;}#sk-container-id-3 div.sk-parallel-item:first-child::after {align-self: flex-end;width: 50%;}#sk-container-id-3 div.sk-parallel-item:last-child::after {align-self: flex-start;width: 50%;}#sk-container-id-3 div.sk-parallel-item:only-child::after {width: 0;}#sk-container-id-3 div.sk-dashed-wrapped {border: 1px dashed gray;margin: 0 0.4em 0.5em 0.4em;box-sizing: border-box;padding-bottom: 0.4em;background-color: white;}#sk-container-id-3 div.sk-label label {font-family: monospace;font-weight: bold;display: inline-block;line-height: 1.2em;}#sk-container-id-3 div.sk-label-container {text-align: center;}#sk-container-id-3 div.sk-container {/* jupyter's `normalize.less` sets `[hidden] { display: none; }` but bootstrap.min.css set `[hidden] { display: none !important; }` so we also need the `!important` here to be able to override the default hidden behavior on the sphinx rendered scikit-learn.org. See: https://github.com/scikit-learn/scikit-learn/issues/21755 */display: inline-block !important;position: relative;}#sk-container-id-3 div.sk-text-repr-fallback {display: none;}</style><div id=\"sk-container-id-3\" class=\"sk-top-container\"><div class=\"sk-text-repr-fallback\"><pre>LinearRegression()</pre><b>In a Jupyter environment, please rerun this cell to show the HTML representation or trust the notebook. <br />On GitHub, the HTML representation is unable to render, please try loading this page with nbviewer.org.</b></div><div class=\"sk-container\" hidden><div class=\"sk-item\"><div class=\"sk-estimator sk-toggleable\"><input class=\"sk-toggleable__control sk-hidden--visually\" id=\"sk-estimator-id-3\" type=\"checkbox\" checked><label for=\"sk-estimator-id-3\" class=\"sk-toggleable__label sk-toggleable__label-arrow\">LinearRegression</label><div class=\"sk-toggleable__content\"><pre>LinearRegression()</pre></div></div></div></div></div>"
      ],
      "text/plain": [
       "LinearRegression()"
      ]
     },
     "execution_count": 62,
     "metadata": {},
     "output_type": "execute_result"
    }
   ],
   "source": [
    "# Fit the regression object onto the training set.\n",
    "\n",
    "regression.fit(X_train_2, y_train_2)"
   ]
  },
  {
   "cell_type": "code",
   "execution_count": 63,
   "id": "4e4f1651",
   "metadata": {},
   "outputs": [],
   "source": [
    "# Predict the values of y using X.\n",
    "\n",
    "y_predicted_2 = regression.predict(X_test_2)"
   ]
  },
  {
   "cell_type": "code",
   "execution_count": 64,
   "id": "0d855501",
   "metadata": {},
   "outputs": [
    {
     "data": {
      "image/png": "[encoded data removed]",
      "text/plain": [
       "<Figure size 640x480 with 1 Axes>"
      ]
     },
     "metadata": {},
     "output_type": "display_data"
    }
   ],
   "source": [
    "# Create a plot that shows the regression line from the model on the test set.\n",
    "\n",
    "plot_test = plt\n",
    "plot_test.scatter(X_test_2, y_test_2, color='gray', s = 15)\n",
    "plot_test.plot(X_test_2, y_predicted_2, color='red', linewidth =3)\n",
    "plot_test.title('Population vs Number of Cases (Test set)')\n",
    "plot_test.xlabel('Population')\n",
    "plot_test.ylabel('Number of Cases')\n",
    "plot_test.show()"
   ]
  },
  {
   "cell_type": "markdown",
   "id": "fdab29fa",
   "metadata": {},
   "source": [
    "### Hypothesis: the bigger the population the most amount of cases (check the outlier)"
   ]
  },
  {
   "cell_type": "code",
   "execution_count": 67,
   "id": "523dfcf7",
   "metadata": {},
   "outputs": [],
   "source": [
    "# Create objects that contain the model summary statistics.\n",
    "\n",
    "rmse_2 = mean_squared_error(y_test_2, y_predicted_2) # This is the mean squared error\n",
    "r2_2 = r2_score(y_test_2, y_predicted_2) # This is the R2 score. "
   ]
  },
  {
   "cell_type": "code",
   "execution_count": 69,
   "id": "f5b575c0",
   "metadata": {},
   "outputs": [
    {
     "name": "stdout",
     "output_type": "stream",
     "text": [
      "Slope: [[0.14172404]]\n",
      "Mean squared error:  1555728352.9213548\n",
      "R2 score:  0.5731291317532122\n"
     ]
    }
   ],
   "source": [
    "# Print the model summary statistics. This is where you evaluate the performance of the model.\n",
    "\n",
    "print('Slope:' ,regression.coef_)\n",
    "print('Mean squared error: ', rmse_2)\n",
    "print('R2 score: ', r2_2)"
   ]
  },
  {
   "cell_type": "markdown",
   "id": "4aef8df2",
   "metadata": {},
   "source": [
    "1. **Slope: 0.14172404**\n",
    "   - The slope represents the coefficient of the 'population' variable in the linear regression model. In this context, it suggests that for each unit increase in 'population,' the model predicts an increase in 'cases' by approximately 0.14172404 units. This indicates a positive relationship between 'population' and 'cases,' implying that as the population increases, the number of cases is also expected to increase.\n",
    "\n",
    "2. **Mean Squared Error: 1555728352.9213548**\n",
    "   - The Mean Squared Error (MSE) measures the average squared difference between the actual 'cases' values and the predicted 'cases' values by the linear regression model. A lower MSE indicates a better fit of the model to the data. In this case, the relatively high MSE of approximately 1,555,728,352.92 suggests that there is a significant amount of variation in the 'cases' variable that is not explained by the 'population' variable.\n",
    "\n",
    "3. **R2 Score: 0.5731291317532122**\n",
    "   - The R-squared (R2) score (coefficient of determination), measures the proportion of variance in the 'cases' variable that can be explained by the 'population' variable. An R2 score of 0.5731 means that approximately 57.31% of the variance in 'cases' can be explained by the 'population' variable according to the linear regression model. In other words, the 'population' variable is a predictor of 'cases,' but it does not explain all of the variance, indicating that other factors may also influence the number of cases.\n",
    "\n",
    "Overall, these statistics suggest that there is a positive linear relationship between 'population' and 'cases,' with the 'population' variable explaining a significant portion (57.31%) of the variance in 'cases.' However, there is still a substantial amount of unexplained variance, as indicated by the relatively high MSE. This suggests that while population is a predictor of cases, there are other factors at play that influence the number of cases."
   ]
  },
  {
   "cell_type": "code",
   "execution_count": 70,
   "id": "2bb4317b",
   "metadata": {},
   "outputs": [
    {
     "data": {
      "text/plain": [
       "array([[ 8455.37726748],\n",
       "       [29062.47758026],\n",
       "       [ 1430.11669855],\n",
       "       ...,\n",
       "       [ 2847.78225173],\n",
       "       [ 1294.48679408],\n",
       "       [  874.41674513]])"
      ]
     },
     "execution_count": 70,
     "metadata": {},
     "output_type": "execute_result"
    }
   ],
   "source": [
    "y_predicted_2"
   ]
  },
  {
   "cell_type": "code",
   "execution_count": 71,
   "id": "492b42d2",
   "metadata": {},
   "outputs": [
    {
     "data": {
      "text/html": [
       "<div>\n",
       "<style scoped>\n",
       "    .dataframe tbody tr th:only-of-type {\n",
       "        vertical-align: middle;\n",
       "    }\n",
       "\n",
       "    .dataframe tbody tr th {\n",
       "        vertical-align: top;\n",
       "    }\n",
       "\n",
       "    .dataframe thead th {\n",
       "        text-align: right;\n",
       "    }\n",
       "</style>\n",
       "<table border=\"1\" class=\"dataframe\">\n",
       "  <thead>\n",
       "    <tr style=\"text-align: right;\">\n",
       "      <th></th>\n",
       "      <th>Actual</th>\n",
       "      <th>Predicted</th>\n",
       "    </tr>\n",
       "  </thead>\n",
       "  <tbody>\n",
       "    <tr>\n",
       "      <th>0</th>\n",
       "      <td>19972</td>\n",
       "      <td>8455.377267</td>\n",
       "    </tr>\n",
       "    <tr>\n",
       "      <th>1</th>\n",
       "      <td>21277</td>\n",
       "      <td>29062.477580</td>\n",
       "    </tr>\n",
       "    <tr>\n",
       "      <th>2</th>\n",
       "      <td>1953</td>\n",
       "      <td>1430.116699</td>\n",
       "    </tr>\n",
       "    <tr>\n",
       "      <th>3</th>\n",
       "      <td>11</td>\n",
       "      <td>3731.148181</td>\n",
       "    </tr>\n",
       "    <tr>\n",
       "      <th>4</th>\n",
       "      <td>11210</td>\n",
       "      <td>6011.062782</td>\n",
       "    </tr>\n",
       "    <tr>\n",
       "      <th>5</th>\n",
       "      <td>2494</td>\n",
       "      <td>3956.347678</td>\n",
       "    </tr>\n",
       "    <tr>\n",
       "      <th>6</th>\n",
       "      <td>1466</td>\n",
       "      <td>233.257197</td>\n",
       "    </tr>\n",
       "    <tr>\n",
       "      <th>7</th>\n",
       "      <td>8771</td>\n",
       "      <td>31284.710498</td>\n",
       "    </tr>\n",
       "    <tr>\n",
       "      <th>8</th>\n",
       "      <td>86</td>\n",
       "      <td>1986.241824</td>\n",
       "    </tr>\n",
       "    <tr>\n",
       "      <th>9</th>\n",
       "      <td>13441</td>\n",
       "      <td>7525.809302</td>\n",
       "    </tr>\n",
       "    <tr>\n",
       "      <th>10</th>\n",
       "      <td>285</td>\n",
       "      <td>-209.063526</td>\n",
       "    </tr>\n",
       "    <tr>\n",
       "      <th>11</th>\n",
       "      <td>9852</td>\n",
       "      <td>3807.537438</td>\n",
       "    </tr>\n",
       "    <tr>\n",
       "      <th>12</th>\n",
       "      <td>24110</td>\n",
       "      <td>36416.112745</td>\n",
       "    </tr>\n",
       "    <tr>\n",
       "      <th>13</th>\n",
       "      <td>10675</td>\n",
       "      <td>5110.406520</td>\n",
       "    </tr>\n",
       "    <tr>\n",
       "      <th>14</th>\n",
       "      <td>12</td>\n",
       "      <td>601.597972</td>\n",
       "    </tr>\n",
       "    <tr>\n",
       "      <th>15</th>\n",
       "      <td>99</td>\n",
       "      <td>-247.895913</td>\n",
       "    </tr>\n",
       "    <tr>\n",
       "      <th>16</th>\n",
       "      <td>92911</td>\n",
       "      <td>49398.459808</td>\n",
       "    </tr>\n",
       "    <tr>\n",
       "      <th>17</th>\n",
       "      <td>1332</td>\n",
       "      <td>211.006523</td>\n",
       "    </tr>\n",
       "    <tr>\n",
       "      <th>18</th>\n",
       "      <td>4174</td>\n",
       "      <td>3852.605682</td>\n",
       "    </tr>\n",
       "    <tr>\n",
       "      <th>19</th>\n",
       "      <td>2608</td>\n",
       "      <td>5723.788157</td>\n",
       "    </tr>\n",
       "    <tr>\n",
       "      <th>20</th>\n",
       "      <td>7027</td>\n",
       "      <td>4733.987475</td>\n",
       "    </tr>\n",
       "    <tr>\n",
       "      <th>21</th>\n",
       "      <td>1232</td>\n",
       "      <td>2168.215489</td>\n",
       "    </tr>\n",
       "    <tr>\n",
       "      <th>22</th>\n",
       "      <td>0</td>\n",
       "      <td>10154.931932</td>\n",
       "    </tr>\n",
       "    <tr>\n",
       "      <th>23</th>\n",
       "      <td>251</td>\n",
       "      <td>5944.594208</td>\n",
       "    </tr>\n",
       "    <tr>\n",
       "      <th>24</th>\n",
       "      <td>0</td>\n",
       "      <td>3731.148181</td>\n",
       "    </tr>\n",
       "    <tr>\n",
       "      <th>25</th>\n",
       "      <td>2661</td>\n",
       "      <td>1029.179395</td>\n",
       "    </tr>\n",
       "    <tr>\n",
       "      <th>26</th>\n",
       "      <td>85</td>\n",
       "      <td>2603.308286</td>\n",
       "    </tr>\n",
       "    <tr>\n",
       "      <th>27</th>\n",
       "      <td>6221</td>\n",
       "      <td>2657.021696</td>\n",
       "    </tr>\n",
       "    <tr>\n",
       "      <th>28</th>\n",
       "      <td>2298</td>\n",
       "      <td>290.513708</td>\n",
       "    </tr>\n",
       "    <tr>\n",
       "      <th>29</th>\n",
       "      <td>3</td>\n",
       "      <td>6113.529262</td>\n",
       "    </tr>\n",
       "  </tbody>\n",
       "</table>\n",
       "</div>"
      ],
      "text/plain": [
       "    Actual     Predicted\n",
       "0    19972   8455.377267\n",
       "1    21277  29062.477580\n",
       "2     1953   1430.116699\n",
       "3       11   3731.148181\n",
       "4    11210   6011.062782\n",
       "5     2494   3956.347678\n",
       "6     1466    233.257197\n",
       "7     8771  31284.710498\n",
       "8       86   1986.241824\n",
       "9    13441   7525.809302\n",
       "10     285   -209.063526\n",
       "11    9852   3807.537438\n",
       "12   24110  36416.112745\n",
       "13   10675   5110.406520\n",
       "14      12    601.597972\n",
       "15      99   -247.895913\n",
       "16   92911  49398.459808\n",
       "17    1332    211.006523\n",
       "18    4174   3852.605682\n",
       "19    2608   5723.788157\n",
       "20    7027   4733.987475\n",
       "21    1232   2168.215489\n",
       "22       0  10154.931932\n",
       "23     251   5944.594208\n",
       "24       0   3731.148181\n",
       "25    2661   1029.179395\n",
       "26      85   2603.308286\n",
       "27    6221   2657.021696\n",
       "28    2298    290.513708\n",
       "29       3   6113.529262"
      ]
     },
     "execution_count": 71,
     "metadata": {},
     "output_type": "execute_result"
    }
   ],
   "source": [
    "# Create a dataframe comparing the actual and predicted values of y.\n",
    "\n",
    "data_2 = pd.DataFrame({'Actual': y_test_2.flatten(), 'Predicted': y_predicted_2.flatten()})\n",
    "data_2.head(30)"
   ]
  },
  {
   "cell_type": "markdown",
   "id": "a6768685",
   "metadata": {},
   "source": [
    "### Compare how the regression fits the training set"
   ]
  },
  {
   "cell_type": "code",
   "execution_count": 72,
   "id": "e05dcaf4",
   "metadata": {},
   "outputs": [],
   "source": [
    "# Predict.\n",
    "\n",
    "y_predicted_train_2 = regression.predict(X_train_2) # This is predicting X_train!"
   ]
  },
  {
   "cell_type": "code",
   "execution_count": 73,
   "id": "aa8ec39e",
   "metadata": {},
   "outputs": [],
   "source": [
    "rmse_3 = mean_squared_error(y_train_2, y_predicted_train_2)\n",
    "r2_3 = r2_score(y_train_2, y_predicted_train_2)"
   ]
  },
  {
   "cell_type": "code",
   "execution_count": 74,
   "id": "35b464c0",
   "metadata": {},
   "outputs": [
    {
     "name": "stdout",
     "output_type": "stream",
     "text": [
      "Slope: [[0.14172404]]\n",
      "Mean squared error:  1539916933.2080555\n",
      "R2 score:  0.5804389663212821\n"
     ]
    }
   ],
   "source": [
    "print('Slope:' ,regression.coef_)\n",
    "print('Mean squared error: ', rmse_3)\n",
    "print('R2 score: ', r2_3)"
   ]
  },
  {
   "cell_type": "code",
   "execution_count": 75,
   "id": "e82f2ac7",
   "metadata": {},
   "outputs": [
    {
     "data": {
      "image/png": "[encoded data removed]",
      "text/plain": [
       "<Figure size 640x480 with 1 Axes>"
      ]
     },
     "metadata": {},
     "output_type": "display_data"
    }
   ],
   "source": [
    "# Visualizing the training set results.\n",
    "\n",
    "plot_test_2 = plt\n",
    "plot_test_2.scatter(X_train_2, y_train_2, color='green', s = 15)\n",
    "plot_test_2.plot(X_train_2, y_predicted_train_2, color='red', linewidth =3)\n",
    "plot_test_2.title('Population vs Number of Cases (Train set)')\n",
    "plot_test_2.xlabel('Population')\n",
    "plot_test_2.ylabel('Number of Cases')\n",
    "plot_test_2.show()"
   ]
  },
  {
   "cell_type": "markdown",
   "id": "862f97f9",
   "metadata": {},
   "source": [
    "# 3.2 Data prep for regression analysis (population vs deaths)"
   ]
  },
  {
   "cell_type": "code",
   "execution_count": 76,
   "id": "25e33076",
   "metadata": {},
   "outputs": [
    {
     "data": {
      "image/png": "[encoded data removed]",
      "text/plain": [
       "<Figure size 640x480 with 1 Axes>"
      ]
     },
     "metadata": {},
     "output_type": "display_data"
    }
   ],
   "source": [
    "# Create a scatterplot using matplotlib for another look at how the chosen variables plot against each other.\n",
    "\n",
    "df.plot(x = 'population', y='deaths',style='o') # The style option creates a scatterplot; without it, we only have lines.\n",
    "plt.title('Population vs Number of Deaths')  \n",
    "plt.xlabel('Population')  \n",
    "plt.ylabel('Number of Deaths')  \n",
    "plt.show()"
   ]
  },
  {
   "cell_type": "code",
   "execution_count": 77,
   "id": "e1c18804",
   "metadata": {},
   "outputs": [],
   "source": [
    "# Reshape the variables into NumPy arrays and put them into separate objects.\n",
    "\n",
    "X_3= df['population'].values.reshape(-1,1)\n",
    "y_3= df['deaths'].values.reshape(-1,1)"
   ]
  },
  {
   "cell_type": "code",
   "execution_count": 78,
   "id": "b418bbdb",
   "metadata": {},
   "outputs": [],
   "source": [
    "# Split data into a training set and a test set.\n",
    "\n",
    "X_train_3, X_test_3, y_train_3, y_test_3 = train_test_split(X_3, y_3, test_size=0.3, random_state=0)"
   ]
  },
  {
   "cell_type": "markdown",
   "id": "e6ff9113",
   "metadata": {},
   "source": [
    "# 4.2 Regression analysis (population vs deaths)"
   ]
  },
  {
   "cell_type": "code",
   "execution_count": 79,
   "id": "193bd395",
   "metadata": {},
   "outputs": [],
   "source": [
    "# Create a regression object.\n",
    "\n",
    "regression_3 = LinearRegression()  # This is the regression object, which will be fit onto the training set."
   ]
  },
  {
   "cell_type": "code",
   "execution_count": 82,
   "id": "75f48a53",
   "metadata": {},
   "outputs": [
    {
     "data": {
      "text/html": [
       "<style>#sk-container-id-6 {color: black;}#sk-container-id-6 pre{padding: 0;}#sk-container-id-6 div.sk-toggleable {background-color: white;}#sk-container-id-6 label.sk-toggleable__label {cursor: pointer;display: block;width: 100%;margin-bottom: 0;padding: 0.3em;box-sizing: border-box;text-align: center;}#sk-container-id-6 label.sk-toggleable__label-arrow:before {content: \"▸\";float: left;margin-right: 0.25em;color: #696969;}#sk-container-id-6 label.sk-toggleable__label-arrow:hover:before {color: black;}#sk-container-id-6 div.sk-estimator:hover label.sk-toggleable__label-arrow:before {color: black;}#sk-container-id-6 div.sk-toggleable__content {max-height: 0;max-width: 0;overflow: hidden;text-align: left;background-color: #f0f8ff;}#sk-container-id-6 div.sk-toggleable__content pre {margin: 0.2em;color: black;border-radius: 0.25em;background-color: #f0f8ff;}#sk-container-id-6 input.sk-toggleable__control:checked~div.sk-toggleable__content {max-height: 200px;max-width: 100%;overflow: auto;}#sk-container-id-6 input.sk-toggleable__control:checked~label.sk-toggleable__label-arrow:before {content: \"▾\";}#sk-container-id-6 div.sk-estimator input.sk-toggleable__control:checked~label.sk-toggleable__label {background-color: #d4ebff;}#sk-container-id-6 div.sk-label input.sk-toggleable__control:checked~label.sk-toggleable__label {background-color: #d4ebff;}#sk-container-id-6 input.sk-hidden--visually {border: 0;clip: rect(1px 1px 1px 1px);clip: rect(1px, 1px, 1px, 1px);height: 1px;margin: -1px;overflow: hidden;padding: 0;position: absolute;width: 1px;}#sk-container-id-6 div.sk-estimator {font-family: monospace;background-color: #f0f8ff;border: 1px dotted black;border-radius: 0.25em;box-sizing: border-box;margin-bottom: 0.5em;}#sk-container-id-6 div.sk-estimator:hover {background-color: #d4ebff;}#sk-container-id-6 div.sk-parallel-item::after {content: \"\";width: 100%;border-bottom: 1px solid gray;flex-grow: 1;}#sk-container-id-6 div.sk-label:hover label.sk-toggleable__label {background-color: #d4ebff;}#sk-container-id-6 div.sk-serial::before {content: \"\";position: absolute;border-left: 1px solid gray;box-sizing: border-box;top: 0;bottom: 0;left: 50%;z-index: 0;}#sk-container-id-6 div.sk-serial {display: flex;flex-direction: column;align-items: center;background-color: white;padding-right: 0.2em;padding-left: 0.2em;position: relative;}#sk-container-id-6 div.sk-item {position: relative;z-index: 1;}#sk-container-id-6 div.sk-parallel {display: flex;align-items: stretch;justify-content: center;background-color: white;position: relative;}#sk-container-id-6 div.sk-item::before, #sk-container-id-6 div.sk-parallel-item::before {content: \"\";position: absolute;border-left: 1px solid gray;box-sizing: border-box;top: 0;bottom: 0;left: 50%;z-index: -1;}#sk-container-id-6 div.sk-parallel-item {display: flex;flex-direction: column;z-index: 1;position: relative;background-color: white;}#sk-container-id-6 div.sk-parallel-item:first-child::after {align-self: flex-end;width: 50%;}#sk-container-id-6 div.sk-parallel-item:last-child::after {align-self: flex-start;width: 50%;}#sk-container-id-6 div.sk-parallel-item:only-child::after {width: 0;}#sk-container-id-6 div.sk-dashed-wrapped {border: 1px dashed gray;margin: 0 0.4em 0.5em 0.4em;box-sizing: border-box;padding-bottom: 0.4em;background-color: white;}#sk-container-id-6 div.sk-label label {font-family: monospace;font-weight: bold;display: inline-block;line-height: 1.2em;}#sk-container-id-6 div.sk-label-container {text-align: center;}#sk-container-id-6 div.sk-container {/* jupyter's `normalize.less` sets `[hidden] { display: none; }` but bootstrap.min.css set `[hidden] { display: none !important; }` so we also need the `!important` here to be able to override the default hidden behavior on the sphinx rendered scikit-learn.org. See: https://github.com/scikit-learn/scikit-learn/issues/21755 */display: inline-block !important;position: relative;}#sk-container-id-6 div.sk-text-repr-fallback {display: none;}</style><div id=\"sk-container-id-6\" class=\"sk-top-container\"><div class=\"sk-text-repr-fallback\"><pre>LinearRegression()</pre><b>In a Jupyter environment, please rerun this cell to show the HTML representation or trust the notebook. <br />On GitHub, the HTML representation is unable to render, please try loading this page with nbviewer.org.</b></div><div class=\"sk-container\" hidden><div class=\"sk-item\"><div class=\"sk-estimator sk-toggleable\"><input class=\"sk-toggleable__control sk-hidden--visually\" id=\"sk-estimator-id-6\" type=\"checkbox\" checked><label for=\"sk-estimator-id-6\" class=\"sk-toggleable__label sk-toggleable__label-arrow\">LinearRegression</label><div class=\"sk-toggleable__content\"><pre>LinearRegression()</pre></div></div></div></div></div>"
      ],
      "text/plain": [
       "LinearRegression()"
      ]
     },
     "execution_count": 82,
     "metadata": {},
     "output_type": "execute_result"
    }
   ],
   "source": [
    "# Fit the regression object onto the training set.\n",
    "\n",
    "regression_3.fit(X_train_3, y_train_3)"
   ]
  },
  {
   "cell_type": "code",
   "execution_count": 83,
   "id": "d06bb6aa",
   "metadata": {},
   "outputs": [],
   "source": [
    "# Predict the values of y using X.\n",
    "\n",
    "y_predicted_3 = regression_3.predict(X_test_3)"
   ]
  },
  {
   "cell_type": "code",
   "execution_count": 84,
   "id": "0318089a",
   "metadata": {},
   "outputs": [
    {
     "data": {
      "image/png": "[encoded data removed]",
      "text/plain": [
       "<Figure size 640x480 with 1 Axes>"
      ]
     },
     "metadata": {},
     "output_type": "display_data"
    }
   ],
   "source": [
    "# Create a plot that shows the regression line from the model on the test set.\n",
    "\n",
    "plot_test_3 = plt\n",
    "plot_test_3.scatter(X_test_3, y_test_3, color='gray', s = 15)\n",
    "plot_test_3.plot(X_test_3, y_predicted_3, color='red', linewidth =3)\n",
    "plot_test_3.title('Population vs Number of Deaths (Test set)')\n",
    "plot_test_3.xlabel('Population')\n",
    "plot_test_3.ylabel('Number of Deaths')\n",
    "plot_test_3.show()"
   ]
  },
  {
   "cell_type": "markdown",
   "id": "22076ef1",
   "metadata": {},
   "source": [
    "### Hypothesis: the bigger the population the most amount of deaths (check the possible outlier)"
   ]
  },
  {
   "cell_type": "code",
   "execution_count": 85,
   "id": "a45299ee",
   "metadata": {},
   "outputs": [],
   "source": [
    "# Create objects that contain the model summary statistics.\n",
    "\n",
    "rmse_3 = mean_squared_error(y_test_3, y_predicted_3) # This is the mean squared error\n",
    "r2_3 = r2_score(y_test_3, y_predicted_3) # This is the R2 score. "
   ]
  },
  {
   "cell_type": "code",
   "execution_count": 86,
   "id": "696e8ae3",
   "metadata": {},
   "outputs": [
    {
     "name": "stdout",
     "output_type": "stream",
     "text": [
      "Slope: [[0.14172404]]\n",
      "Mean squared error:  193054.92116814034\n",
      "R2 score:  0.6526241269900241\n"
     ]
    }
   ],
   "source": [
    "# Print the model summary statistics. This is where you evaluate the performance of the model.\n",
    "\n",
    "print('Slope:' ,regression.coef_)\n",
    "print('Mean squared error: ', rmse_3)\n",
    "print('R2 score: ', r2_3)"
   ]
  },
  {
   "cell_type": "markdown",
   "id": "b6a30ad1",
   "metadata": {},
   "source": [
    "1. **Slope: 0.14172404**\n",
    "   - The slope represents the coefficient of the 'population' variable in the linear regression model. In this context, it suggests that for each unit increase in 'population,' the model predicts an increase in 'deaths' by approximately 0.14172404 units. This indicates a positive relationship between 'population' and 'deaths,' meaning that as the population increases, the number of deaths is also expected to increase.\n",
    "\n",
    "2. **Mean Squared Error: 193054.92116814034**\n",
    "   - The Mean Squared Error (MSE) measures the average squared difference between the actual 'deaths' values and the predicted 'deaths' values by the linear regression model. A lower MSE indicates a better fit of the model to the data. In this case, the MSE of approximately 193,054.92 suggests that there is relatively low variation in the 'deaths' variable that is not explained by the 'population' variable.\n",
    "\n",
    "3. **R2 Score: 0.6526241269900241**\n",
    "   - The R-squared (R2) score (coefficient of determination), measures the proportion of variance in the 'deaths' variable that can be explained by the 'population' variable. An R2 score of 0.6526 means that approximately 65.26% of the variance in 'deaths' can be explained by the 'population' variable according to the linear regression model. In other words, the 'population' variable is a reasonably good predictor of 'deaths,' explaining a significant portion of the variance.\n",
    "\n",
    "Overall, these statistics suggest that there is a positive linear relationship between 'population' and 'deaths,' with the 'population' variable explaining a substantial portion (approximately 65.26%) of the variance in 'deaths.' The relatively low MSE indicates that the model provides a relatively good fit to the data, but there may still be some unexplained variation or other factors influencing the number of deaths."
   ]
  },
  {
   "cell_type": "code",
   "execution_count": 87,
   "id": "b40afdca",
   "metadata": {},
   "outputs": [
    {
     "data": {
      "text/plain": [
       "array([[115.28213114],\n",
       "       [386.01948792],\n",
       "       [ 22.98382384],\n",
       "       ...,\n",
       "       [ 41.60920145],\n",
       "       [ 21.20190978],\n",
       "       [ 15.68300353]])"
      ]
     },
     "execution_count": 87,
     "metadata": {},
     "output_type": "execute_result"
    }
   ],
   "source": [
    "y_predicted_3"
   ]
  },
  {
   "cell_type": "code",
   "execution_count": 89,
   "id": "06ca3f64",
   "metadata": {},
   "outputs": [
    {
     "data": {
      "text/html": [
       "<div>\n",
       "<style scoped>\n",
       "    .dataframe tbody tr th:only-of-type {\n",
       "        vertical-align: middle;\n",
       "    }\n",
       "\n",
       "    .dataframe tbody tr th {\n",
       "        vertical-align: top;\n",
       "    }\n",
       "\n",
       "    .dataframe thead th {\n",
       "        text-align: right;\n",
       "    }\n",
       "</style>\n",
       "<table border=\"1\" class=\"dataframe\">\n",
       "  <thead>\n",
       "    <tr style=\"text-align: right;\">\n",
       "      <th></th>\n",
       "      <th>Actual</th>\n",
       "      <th>Predicted</th>\n",
       "    </tr>\n",
       "  </thead>\n",
       "  <tbody>\n",
       "    <tr>\n",
       "      <th>0</th>\n",
       "      <td>227</td>\n",
       "      <td>115.282131</td>\n",
       "    </tr>\n",
       "    <tr>\n",
       "      <th>1</th>\n",
       "      <td>194</td>\n",
       "      <td>386.019488</td>\n",
       "    </tr>\n",
       "    <tr>\n",
       "      <th>2</th>\n",
       "      <td>17</td>\n",
       "      <td>22.983824</td>\n",
       "    </tr>\n",
       "    <tr>\n",
       "      <th>3</th>\n",
       "      <td>1</td>\n",
       "      <td>53.214918</td>\n",
       "    </tr>\n",
       "    <tr>\n",
       "      <th>4</th>\n",
       "      <td>278</td>\n",
       "      <td>83.168576</td>\n",
       "    </tr>\n",
       "    <tr>\n",
       "      <th>5</th>\n",
       "      <td>152</td>\n",
       "      <td>56.173602</td>\n",
       "    </tr>\n",
       "    <tr>\n",
       "      <th>6</th>\n",
       "      <td>29</td>\n",
       "      <td>7.259410</td>\n",
       "    </tr>\n",
       "    <tr>\n",
       "      <th>7</th>\n",
       "      <td>184</td>\n",
       "      <td>415.215321</td>\n",
       "    </tr>\n",
       "    <tr>\n",
       "      <th>8</th>\n",
       "      <td>1</td>\n",
       "      <td>30.290230</td>\n",
       "    </tr>\n",
       "    <tr>\n",
       "      <th>9</th>\n",
       "      <td>224</td>\n",
       "      <td>103.069410</td>\n",
       "    </tr>\n",
       "    <tr>\n",
       "      <th>10</th>\n",
       "      <td>3</td>\n",
       "      <td>1.448173</td>\n",
       "    </tr>\n",
       "    <tr>\n",
       "      <th>11</th>\n",
       "      <td>84</td>\n",
       "      <td>54.218524</td>\n",
       "    </tr>\n",
       "    <tr>\n",
       "      <th>12</th>\n",
       "      <td>264</td>\n",
       "      <td>482.632001</td>\n",
       "    </tr>\n",
       "    <tr>\n",
       "      <th>13</th>\n",
       "      <td>101</td>\n",
       "      <td>71.335699</td>\n",
       "    </tr>\n",
       "    <tr>\n",
       "      <th>14</th>\n",
       "      <td>0</td>\n",
       "      <td>12.098694</td>\n",
       "    </tr>\n",
       "    <tr>\n",
       "      <th>15</th>\n",
       "      <td>2</td>\n",
       "      <td>0.937991</td>\n",
       "    </tr>\n",
       "    <tr>\n",
       "      <th>16</th>\n",
       "      <td>1467</td>\n",
       "      <td>653.194879</td>\n",
       "    </tr>\n",
       "    <tr>\n",
       "      <th>17</th>\n",
       "      <td>32</td>\n",
       "      <td>6.967079</td>\n",
       "    </tr>\n",
       "    <tr>\n",
       "      <th>18</th>\n",
       "      <td>86</td>\n",
       "      <td>54.810634</td>\n",
       "    </tr>\n",
       "    <tr>\n",
       "      <th>19</th>\n",
       "      <td>50</td>\n",
       "      <td>79.394345</td>\n",
       "    </tr>\n",
       "    <tr>\n",
       "      <th>20</th>\n",
       "      <td>101</td>\n",
       "      <td>66.390282</td>\n",
       "    </tr>\n",
       "    <tr>\n",
       "      <th>21</th>\n",
       "      <td>31</td>\n",
       "      <td>32.681011</td>\n",
       "    </tr>\n",
       "    <tr>\n",
       "      <th>22</th>\n",
       "      <td>0</td>\n",
       "      <td>137.610985</td>\n",
       "    </tr>\n",
       "    <tr>\n",
       "      <th>23</th>\n",
       "      <td>0</td>\n",
       "      <td>82.295308</td>\n",
       "    </tr>\n",
       "    <tr>\n",
       "      <th>24</th>\n",
       "      <td>0</td>\n",
       "      <td>53.214918</td>\n",
       "    </tr>\n",
       "    <tr>\n",
       "      <th>25</th>\n",
       "      <td>17</td>\n",
       "      <td>17.716285</td>\n",
       "    </tr>\n",
       "    <tr>\n",
       "      <th>26</th>\n",
       "      <td>8</td>\n",
       "      <td>38.397287</td>\n",
       "    </tr>\n",
       "    <tr>\n",
       "      <th>27</th>\n",
       "      <td>104</td>\n",
       "      <td>39.102977</td>\n",
       "    </tr>\n",
       "    <tr>\n",
       "      <th>28</th>\n",
       "      <td>29</td>\n",
       "      <td>8.011649</td>\n",
       "    </tr>\n",
       "    <tr>\n",
       "      <th>29</th>\n",
       "      <td>0</td>\n",
       "      <td>84.514787</td>\n",
       "    </tr>\n",
       "  </tbody>\n",
       "</table>\n",
       "</div>"
      ],
      "text/plain": [
       "    Actual   Predicted\n",
       "0      227  115.282131\n",
       "1      194  386.019488\n",
       "2       17   22.983824\n",
       "3        1   53.214918\n",
       "4      278   83.168576\n",
       "5      152   56.173602\n",
       "6       29    7.259410\n",
       "7      184  415.215321\n",
       "8        1   30.290230\n",
       "9      224  103.069410\n",
       "10       3    1.448173\n",
       "11      84   54.218524\n",
       "12     264  482.632001\n",
       "13     101   71.335699\n",
       "14       0   12.098694\n",
       "15       2    0.937991\n",
       "16    1467  653.194879\n",
       "17      32    6.967079\n",
       "18      86   54.810634\n",
       "19      50   79.394345\n",
       "20     101   66.390282\n",
       "21      31   32.681011\n",
       "22       0  137.610985\n",
       "23       0   82.295308\n",
       "24       0   53.214918\n",
       "25      17   17.716285\n",
       "26       8   38.397287\n",
       "27     104   39.102977\n",
       "28      29    8.011649\n",
       "29       0   84.514787"
      ]
     },
     "execution_count": 89,
     "metadata": {},
     "output_type": "execute_result"
    }
   ],
   "source": [
    "# Create a dataframe comparing the actual and predicted values of y.\n",
    "\n",
    "data_3 = pd.DataFrame({'Actual': y_test_3.flatten(), 'Predicted': y_predicted_3.flatten()})\n",
    "data_3.head(30)"
   ]
  },
  {
   "cell_type": "markdown",
   "id": "2da15d8b",
   "metadata": {},
   "source": [
    "### Compare how the regression fits the training set"
   ]
  },
  {
   "cell_type": "code",
   "execution_count": 91,
   "id": "6f03cc56",
   "metadata": {},
   "outputs": [],
   "source": [
    "# Predict.\n",
    "\n",
    "y_predicted_train_3 = regression_3.predict(X_train_3) # This is predicting X_train!"
   ]
  },
  {
   "cell_type": "code",
   "execution_count": 92,
   "id": "304935ca",
   "metadata": {},
   "outputs": [],
   "source": [
    "rmse_4 = mean_squared_error(y_train_3, y_predicted_train_3)\n",
    "r2_4 = r2_score(y_train_3, y_predicted_train_3)"
   ]
  },
  {
   "cell_type": "code",
   "execution_count": 93,
   "id": "2a565cf7",
   "metadata": {},
   "outputs": [
    {
     "name": "stdout",
     "output_type": "stream",
     "text": [
      "Slope: [[0.14172404]]\n",
      "Mean squared error:  190298.0327812254\n",
      "R2 score:  0.658977218160302\n"
     ]
    }
   ],
   "source": [
    "print('Slope:' ,regression.coef_)\n",
    "print('Mean squared error: ', rmse_4)\n",
    "print('R2 score: ', r2_4)"
   ]
  },
  {
   "cell_type": "code",
   "execution_count": 94,
   "id": "14cde1c6",
   "metadata": {},
   "outputs": [
    {
     "data": {
      "image/png": "[encoded data removed]",
      "text/plain": [
       "<Figure size 640x480 with 1 Axes>"
      ]
     },
     "metadata": {},
     "output_type": "display_data"
    }
   ],
   "source": [
    "# Visualizing the training set results.\n",
    "\n",
    "plot_test_4 = plt\n",
    "plot_test_4.scatter(X_train_3, y_train_3, color='green', s = 15)\n",
    "plot_test_4.plot(X_train_3, y_predicted_train_3, color='red', linewidth =3)\n",
    "plot_test_4.title('Population vs Number of Deaths (Train set)')\n",
    "plot_test_4.xlabel('Population')\n",
    "plot_test_4.ylabel('Number of Deaths')\n",
    "plot_test_4.show()"
   ]
  }
 ],
 "metadata": {
  "kernelspec": {
   "display_name": "Python 3 (ipykernel)",
   "language": "python",
   "name": "python3"
  },
  "language_info": {
   "codemirror_mode": {
    "name": "ipython",
    "version": 3
   },
   "file_extension": ".py",
   "mimetype": "text/x-python",
   "name": "python",
   "nbconvert_exporter": "python",
   "pygments_lexer": "ipython3",
   "version": "3.11.4"
  }
 },
 "nbformat": 4,
 "nbformat_minor": 5
}
